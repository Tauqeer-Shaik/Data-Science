{
  "nbformat": 4,
  "nbformat_minor": 0,
  "metadata": {
    "colab": {
      "provenance": [],
      "include_colab_link": true
    },
    "kernelspec": {
      "name": "python3",
      "display_name": "Python 3"
    },
    "language_info": {
      "name": "python"
    }
  },
  "cells": [
    {
      "cell_type": "markdown",
      "metadata": {
        "id": "view-in-github",
        "colab_type": "text"
      },
      "source": [
        "<a href=\"https://colab.research.google.com/github/Tauqeer-Shaik/Data-Science/blob/main/data_munging_project.ipynb\" target=\"_parent\"><img src=\"https://colab.research.google.com/assets/colab-badge.svg\" alt=\"Open In Colab\"/></a>"
      ]
    },
    {
      "cell_type": "markdown",
      "metadata": {
        "id": "DIfh2REWFr6p"
      },
      "source": [
        "## Learning Objective"
      ]
    },
    {
      "cell_type": "markdown",
      "metadata": {
        "id": "LrIlNFZeKMsx"
      },
      "source": [
        "At the end of this experiment, you will be able to:\n",
        "\n",
        "* perform Data preprocessing"
      ]
    },
    {
      "cell_type": "markdown",
      "metadata": {
        "id": "V3vgcWwOF2cK"
      },
      "source": [
        "## Problem Statement"
      ]
    },
    {
      "cell_type": "markdown",
      "metadata": {
        "id": "mfv616s92gl_"
      },
      "source": [
        "We will be using district wise demographics, enrollments, and teacher indicator data to predict whether the literacy rate is high/ medium/ low in each district."
      ]
    },
    {
      "cell_type": "markdown",
      "metadata": {
        "id": "md2IjdMdGCWm"
      },
      "source": [
        "### Data Preprocessing"
      ]
    },
    {
      "cell_type": "markdown",
      "metadata": {
        "id": "3B5ztQVbKMsz"
      },
      "source": [
        "Data preprocessing is an important step in solving every machine learning problem. Most of\n",
        "the datasets used with Machine Learning problems need to be processed / cleaned / transformed\n",
        "so that a Machine Learning algorithm can be trained on it."
      ]
    },
    {
      "cell_type": "markdown",
      "metadata": {
        "id": "QsxaJLZAKMs0"
      },
      "source": [
        "There are different steps involved in Data Preprocessing. These steps are as follows:"
      ]
    },
    {
      "cell_type": "markdown",
      "metadata": {
        "id": "QF3Eg-5pKMs1"
      },
      "source": [
        "    1. Data Cleaning → In this step the primary focus is on\n",
        "        - Handling missing data\n",
        "        - Handling noisy data\n",
        "        - Detection and removal of outliers\n",
        "    \n",
        "    2. Data Integration → This process is used when data is gathered from various data sources and data are combined to form consistent data.\n",
        "    This data after performing cleaning is used for analysis.\n",
        "    \n",
        "    3. Data Transformation → In this step we will convert the raw data into a specified format according to the need of the model we are building.\n",
        "    There are many options used for transforming the data as below:\n",
        "        - Normalization\n",
        "        - Aggregation\n",
        "        - Generalization\n",
        "        \n",
        "    4. Data Reduction → Following data transformation and scaling, the redundancy within the data is removed and is organized efficiently.\n",
        "\n"
      ]
    },
    {
      "cell_type": "markdown",
      "metadata": {
        "id": "hZSlj_nWKMs4"
      },
      "source": [
        "## Exercise 1 - Load and Explore the Data (2 Marks)\n",
        "1. We have three different files\n",
        "\n",
        "  * Districtwise_Basicdata.csv\n",
        "  * Districtwise_Enrollment_details_indicator.csv\n",
        "  * Districtwise_Teacher_indicator.csv\n",
        "\n",
        "  These files contain the necessary data to solve the problem. <br>\n",
        "\n",
        "2. Load the files based on **team allocation** mentioned below. Observe the header level details, data records while loading the data.\n",
        "  \n",
        "  Hint : Use read_csv from pandas with [skiprows or header](https://towardsdatascience.com/import-csv-files-as-pandas-dataframe-with-skiprows-skipfooter-usecols-index-col-and-header-fbf67a2f92a) options.\n",
        "\n",
        "3. Read the columns of the dataset and rename them if required.\n",
        "\n",
        "  Hint : Rename column names (if any) using the following [link](https://pandas.pydata.org/pandas-docs/stable/reference/api/pandas.DataFrame.rename.html)."
      ]
    },
    {
      "cell_type": "markdown",
      "metadata": {
        "id": "L7xw5qs68uWE"
      },
      "source": [
        "Team allocation for dataset selection\n",
        "\n",
        "    Team A\n",
        "        Districtwise_Basicdata.csv\n",
        "        Districtwise_Enrollment_details_indicator.csv\n",
        "\n",
        "    Team B\n",
        "        Districtwise_Basicdata.csv\n",
        "        Districtwise_Teacher_indicator.csv"
      ]
    },
    {
      "cell_type": "code",
      "source": [
        "import pandas as pd"
      ],
      "metadata": {
        "id": "wmojADVJ3Vpa"
      },
      "execution_count": null,
      "outputs": []
    },
    {
      "cell_type": "code",
      "source": [
        "print(\"Team A\")\n",
        "print(\"-----------\")\n",
        "basic_data = pd.read_csv('Districtwise_Basicdata.csv',header=1)\n",
        "enroll_data = pd.read_csv('Districtwise_Enrollment_details_indicator.csv',header = 3)\n",
        "print(\"Basic Data:\")\n",
        "print(basic_data.head())\n",
        "print()\n",
        "print(\"Enrollment Data:\")\n",
        "print(enroll_data.head())"
      ],
      "metadata": {
        "id": "9YVVg_7u3Vmm",
        "colab": {
          "base_uri": "https://localhost:8080/"
        },
        "outputId": "2ba2e225-a836-4c85-dfee-d7c60d5f579d"
      },
      "execution_count": null,
      "outputs": [
        {
          "output_type": "stream",
          "name": "stdout",
          "text": [
            "Team A\n",
            "-----------\n",
            "Basic Data:\n",
            "      Year  Statecd                                          statename  \\\n",
            "0  2012-13       35  ANDAMAN & NICOBAR ISLANDS                     ...   \n",
            "1  2012-13       35  ANDAMAN & NICOBAR ISLANDS                     ...   \n",
            "2  2012-13       35  ANDAMAN & NICOBAR ISLANDS                     ...   \n",
            "3  2012-13       28  ANDHRA PRADESH                                ...   \n",
            "4  2012-13       28  ANDHRA PRADESH                                ...   \n",
            "\n",
            "   distcd                                           distname  blocks  \\\n",
            "0    3501  ANDAMANS                                      ...       3   \n",
            "1    3503  MIDDLE AND NORTH ANDAMANS                     ...       3   \n",
            "2    3502  NICOBARS                                      ...       3   \n",
            "3    2801  ADILABAD                                      ...      52   \n",
            "4    2822  ANANTAPUR                                     ...      63   \n",
            "\n",
            "   clusters  villages  totschools  totpopulation   p_06_pop  p_urb_pop  \\\n",
            "0        16        83         212       237586.0   23616.05      55.89   \n",
            "1        13        76         181       105539.0   11651.51       2.60   \n",
            "2         8        42          58        36819.0    4226.82       0.00   \n",
            "3       356      1576        4983      2737738.0  295675.70      27.68   \n",
            "4       564       929        5188      4083315.0  427114.75      28.09   \n",
            "\n",
            "   sexratio  sexratio_06  growthrate  p_sc_pop  p_st_pop overall_lit  \\\n",
            "0     874.0        980.0       13.97      0.00      1.72        High   \n",
            "1     925.0        975.0       -0.07      0.00      0.72        High   \n",
            "2     778.0        961.0      -12.48      0.00     64.28        High   \n",
            "3    1003.0        942.0       10.04     17.82     18.09         Low   \n",
            "4     977.0        927.0       12.16     14.29      3.78         Low   \n",
            "\n",
            "   female_lit  \n",
            "0       84.52  \n",
            "1       79.39  \n",
            "2       70.70  \n",
            "3       51.99  \n",
            "4       54.31  \n",
            "\n",
            "Enrollment Data:\n",
            "      Year  Statecd                                        State Name   \\\n",
            "0  2012-13       35  ANDAMAN & NICOBAR ISLANDS                     ...   \n",
            "1  2012-13       35  ANDAMAN & NICOBAR ISLANDS                     ...   \n",
            "2  2012-13       35  ANDAMAN & NICOBAR ISLANDS                     ...   \n",
            "3  2012-13       28  ANDHRA PRADESH                                ...   \n",
            "4  2012-13       28  ANDHRA PRADESH                                ...   \n",
            "\n",
            "   distcd                                           distname  Enr Govt1  \\\n",
            "0    3501  ANDAMANS                                      ...       3232   \n",
            "1    3503  MIDDLE AND NORTH ANDAMANS                     ...       3996   \n",
            "2    3502  NICOBARS                                      ...       1510   \n",
            "3    2801  ADILABAD                                      ...     135664   \n",
            "4    2822  ANANTAPUR                                     ...     145256   \n",
            "\n",
            "   Enr Govt2  Enr Govt3  Enr Govt4  Enr Govt5  ...  Rep C7  Rep C8  Muslim P  \\\n",
            "0     3359.0      10620        0.0       1027  ...       7       4      2539   \n",
            "1     3808.0       1162     1043.0       1397  ...       0       0       184   \n",
            "2      886.0        357        0.0        651  ...       5       2        62   \n",
            "3    53374.0       1266        0.0        226  ...      47      49     33747   \n",
            "4    71562.0       6867      870.0      92640  ...      84      72     34185   \n",
            "\n",
            "   Muslim Up  Muslim G P  Muslim G Up   Obc P  Obc Up  Obc G P  Obc G Up  \n",
            "0       1383        1263          690    2289    1437     1159       747  \n",
            "1        103          98           60    2100    1621     1066       825  \n",
            "2         34          33           14      17       5        6         0  \n",
            "3      13901       17216         7520  118300   62602    56425     30725  \n",
            "4      16310       17082         8465  188353  100391    90967     50266  \n",
            "\n",
            "[5 rows x 166 columns]\n"
          ]
        }
      ]
    },
    {
      "cell_type": "code",
      "source": [
        "basic_data.columns"
      ],
      "metadata": {
        "colab": {
          "base_uri": "https://localhost:8080/"
        },
        "id": "iaq0vQISxvb5",
        "outputId": "78fbfffd-515f-4f9d-b6bd-83428628745b"
      },
      "execution_count": null,
      "outputs": [
        {
          "output_type": "execute_result",
          "data": {
            "text/plain": [
              "Index(['Year', 'Statecd', 'statename', 'distcd', 'distname', 'blocks',\n",
              "       'clusters', 'villages', 'totschools', 'totpopulation', 'p_06_pop',\n",
              "       'p_urb_pop', 'sexratio', 'sexratio_06', 'growthrate', 'p_sc_pop',\n",
              "       'p_st_pop', 'overall_lit', 'female_lit'],\n",
              "      dtype='object')"
            ]
          },
          "metadata": {},
          "execution_count": 241
        }
      ]
    },
    {
      "cell_type": "code",
      "source": [
        "enroll_data.columns"
      ],
      "metadata": {
        "colab": {
          "base_uri": "https://localhost:8080/"
        },
        "id": "XEdhR-qBJpLU",
        "outputId": "ccc880a5-cbd1-4dac-b4d1-25c6b9da55db"
      },
      "execution_count": null,
      "outputs": [
        {
          "output_type": "execute_result",
          "data": {
            "text/plain": [
              "Index(['Year', 'Statecd', 'State Name ', 'distcd', 'distname', 'Enr Govt1',\n",
              "       'Enr Govt2', 'Enr Govt3', 'Enr Govt4', 'Enr Govt5',\n",
              "       ...\n",
              "       'Rep C7', 'Rep C8', 'Muslim P', 'Muslim Up', 'Muslim G P',\n",
              "       'Muslim G Up', 'Obc P', 'Obc Up', 'Obc G P', 'Obc G Up'],\n",
              "      dtype='object', length=166)"
            ]
          },
          "metadata": {},
          "execution_count": 242
        }
      ]
    },
    {
      "cell_type": "code",
      "source": [
        "print(\"Team B\")\n",
        "basic_data = pd.read_csv('Districtwise_Basicdata.csv', header=1)\n",
        "teacher_indicator = pd.read_csv('Districtwise_Teacher_indicator.csv', skiprows=3)\n",
        "print(\"Basic Data:\")\n",
        "print(basic_data.head())\n",
        "print()\n",
        "print(\"Teacher Indicator:\")\n",
        "print(teacher_indicator.head())"
      ],
      "metadata": {
        "id": "kKxOUGAi3Vkm",
        "colab": {
          "base_uri": "https://localhost:8080/"
        },
        "outputId": "bc334c38-8f40-49ce-bd12-a96914044e61"
      },
      "execution_count": null,
      "outputs": [
        {
          "output_type": "stream",
          "name": "stdout",
          "text": [
            "Team B\n",
            "Basic Data:\n",
            "      Year  Statecd                                          statename  \\\n",
            "0  2012-13       35  ANDAMAN & NICOBAR ISLANDS                     ...   \n",
            "1  2012-13       35  ANDAMAN & NICOBAR ISLANDS                     ...   \n",
            "2  2012-13       35  ANDAMAN & NICOBAR ISLANDS                     ...   \n",
            "3  2012-13       28  ANDHRA PRADESH                                ...   \n",
            "4  2012-13       28  ANDHRA PRADESH                                ...   \n",
            "\n",
            "   distcd                                           distname  blocks  \\\n",
            "0    3501  ANDAMANS                                      ...       3   \n",
            "1    3503  MIDDLE AND NORTH ANDAMANS                     ...       3   \n",
            "2    3502  NICOBARS                                      ...       3   \n",
            "3    2801  ADILABAD                                      ...      52   \n",
            "4    2822  ANANTAPUR                                     ...      63   \n",
            "\n",
            "   clusters  villages  totschools  totpopulation   p_06_pop  p_urb_pop  \\\n",
            "0        16        83         212       237586.0   23616.05      55.89   \n",
            "1        13        76         181       105539.0   11651.51       2.60   \n",
            "2         8        42          58        36819.0    4226.82       0.00   \n",
            "3       356      1576        4983      2737738.0  295675.70      27.68   \n",
            "4       564       929        5188      4083315.0  427114.75      28.09   \n",
            "\n",
            "   sexratio  sexratio_06  growthrate  p_sc_pop  p_st_pop overall_lit  \\\n",
            "0     874.0        980.0       13.97      0.00      1.72        High   \n",
            "1     925.0        975.0       -0.07      0.00      0.72        High   \n",
            "2     778.0        961.0      -12.48      0.00     64.28        High   \n",
            "3    1003.0        942.0       10.04     17.82     18.09         Low   \n",
            "4     977.0        927.0       12.16     14.29      3.78         Low   \n",
            "\n",
            "   female_lit  \n",
            "0       84.52  \n",
            "1       79.39  \n",
            "2       70.70  \n",
            "3       51.99  \n",
            "4       54.31  \n",
            "\n",
            "Teacher Indicator:\n",
            "   statecd                                          statename  distcd  \\\n",
            "0       35  ANDAMAN & NICOBAR ISLANDS                     ...    3501   \n",
            "1       35  ANDAMAN & NICOBAR ISLANDS                     ...    3503   \n",
            "2       35  ANDAMAN & NICOBAR ISLANDS                     ...    3502   \n",
            "3       28  ANDHRA PRADESH                                ...    2801   \n",
            "4       28  ANDHRA PRADESH                                ...    2822   \n",
            "\n",
            "                                            distname  ac_year  tch_govt1  \\\n",
            "0  ANDAMANS                                      ...  2012-13        329   \n",
            "1  MIDDLE AND NORTH ANDAMANS                     ...  2012-13        305   \n",
            "2  NICOBARS                                      ...  2012-13        110   \n",
            "3  ADILABAD                                      ...  2012-13       4749   \n",
            "4  ANANTAPUR                                     ...  2012-13       5797   \n",
            "\n",
            "   tch_govt2  tch_govt3  tch_govt4  tch_govt5  ...  trn_tch_f2  trn_tch_f3  \\\n",
            "0        429       1097          0        127  ...         176         135   \n",
            "1        285        194         95        268  ...          85          40   \n",
            "2         95         56          0        135  ...          29          23   \n",
            "3       1788         38          0         22  ...         267           0   \n",
            "4       2879        209          8       6733  ...         726           0   \n",
            "\n",
            "   trn_tch_f4  trn_tch_f5  trn_tch_f6  trn_tch_f7  prof_trn_tch_r  \\\n",
            "0           0          22         103           0            2968   \n",
            "1           3          28          60           0            1249   \n",
            "2           0          17          46           0             430   \n",
            "3           0           0           8         248           16419   \n",
            "4           0         591           0           3           21487   \n",
            "\n",
            "   prof_trn_tch_p  days_nontch  tch_nontch  \n",
            "0             228           12         519  \n",
            "1             203            8         362  \n",
            "2              78           20          28  \n",
            "3             845           13         263  \n",
            "4             676           14        1185  \n",
            "\n",
            "[5 rows x 181 columns]\n"
          ]
        }
      ]
    },
    {
      "cell_type": "code",
      "source": [
        "basic_data.columns"
      ],
      "metadata": {
        "id": "nsnjR2sS3Vhz",
        "colab": {
          "base_uri": "https://localhost:8080/"
        },
        "outputId": "9c715952-ed70-4b08-84cd-70d36f8c2a9b"
      },
      "execution_count": null,
      "outputs": [
        {
          "output_type": "execute_result",
          "data": {
            "text/plain": [
              "Index(['Year', 'Statecd', 'statename', 'distcd', 'distname', 'blocks',\n",
              "       'clusters', 'villages', 'totschools', 'totpopulation', 'p_06_pop',\n",
              "       'p_urb_pop', 'sexratio', 'sexratio_06', 'growthrate', 'p_sc_pop',\n",
              "       'p_st_pop', 'overall_lit', 'female_lit'],\n",
              "      dtype='object')"
            ]
          },
          "metadata": {},
          "execution_count": 244
        }
      ]
    },
    {
      "cell_type": "code",
      "source": [
        "teacher_indicator.columns"
      ],
      "metadata": {
        "colab": {
          "base_uri": "https://localhost:8080/"
        },
        "id": "xnEFVNxY02WV",
        "outputId": "f47c1eac-11ab-4133-d734-e2ecbc16e845"
      },
      "execution_count": null,
      "outputs": [
        {
          "output_type": "execute_result",
          "data": {
            "text/plain": [
              "Index(['statecd', 'statename', 'distcd', 'distname', 'ac_year', 'tch_govt1',\n",
              "       'tch_govt2', 'tch_govt3', 'tch_govt4', 'tch_govt5',\n",
              "       ...\n",
              "       'trn_tch_f2', 'trn_tch_f3', 'trn_tch_f4', 'trn_tch_f5', 'trn_tch_f6',\n",
              "       'trn_tch_f7', 'prof_trn_tch_r', 'prof_trn_tch_p', 'days_nontch',\n",
              "       'tch_nontch'],\n",
              "      dtype='object', length=181)"
            ]
          },
          "metadata": {},
          "execution_count": 245
        }
      ]
    },
    {
      "cell_type": "markdown",
      "metadata": {
        "id": "K2A3OKraKMs9"
      },
      "source": [
        "## Exercise 2  - Data Integration (3 Marks)\n",
        "\n",
        "As the required data is present in different datasets, we need to **integrate both to make a single dataframe/dataset**.\n",
        "  * For integrating the datasets, create a unique identifier for each row in both the dataframes so that it can be used to map the data in different files.\n",
        "   \n",
        "    * Combine year, state code, district code columns and form a new unique identifier column, refer to this [link](https://stackoverflow.com/questions/33098383/merge-multiple-column-values-into-one-column-in-python-pandas).\n",
        "    * Set the identifier column as the index for each dataframe.\n",
        "\n",
        "    * Integrate the dataframes using the above index\n",
        "     \n",
        "     Hint: For merging or joining the datasets, refer to this [link](https://pandas.pydata.org/pandas-docs/stable/user_guide/merging.html)\n",
        "\n",
        "**Example:** Data of the district Anantapur in Andrapradesh, which is present in different files should form a single row after integrating the datasets\n"
      ]
    },
    {
      "cell_type": "code",
      "source": [
        "basic_data['unique_id'] = (basic_data['Year'].astype(str) + \"_\" +\n",
        "                             basic_data['Statecd'].astype(str) + \"_\" +\n",
        "                             basic_data['distcd'].astype(str))\n",
        "\n",
        "enroll_data['unique_id'] = (enroll_data['Year'].astype(str) + \"_\" +\n",
        "                              enroll_data['Statecd'].astype(str) + \"_\" +\n",
        "                              enroll_data['distcd'].astype(str))\n",
        "\n",
        "# Set the unique identifier as the index\n",
        "basic_data.set_index('unique_id', inplace=True)\n",
        "enroll_data.set_index('unique_id', inplace=True)\n"
      ],
      "metadata": {
        "id": "mDlrQ5S_3W8B"
      },
      "execution_count": null,
      "outputs": []
    },
    {
      "cell_type": "code",
      "source": [
        "# Merge the dataframes on the unique identifier\n",
        "A_merged = basic_data.merge(enroll_data, on='unique_id', suffixes=('_basic', '_enrollment'))\n",
        "\n",
        "print(\"Merged DataFrame for Team A:\")\n",
        "print(A_merged.head())"
      ],
      "metadata": {
        "id": "0ggVKoTp3Wt7",
        "colab": {
          "base_uri": "https://localhost:8080/"
        },
        "outputId": "58bf98d7-989e-4f3f-85e3-5bd1d299221c"
      },
      "execution_count": null,
      "outputs": [
        {
          "output_type": "stream",
          "name": "stdout",
          "text": [
            "Merged DataFrame for Team A:\n",
            "                Year_basic  Statecd_basic  \\\n",
            "unique_id                                   \n",
            "2012-13_35_3501    2012-13             35   \n",
            "2012-13_35_3503    2012-13             35   \n",
            "2012-13_35_3502    2012-13             35   \n",
            "2012-13_28_2801    2012-13             28   \n",
            "2012-13_28_2822    2012-13             28   \n",
            "\n",
            "                                                         statename  \\\n",
            "unique_id                                                            \n",
            "2012-13_35_3501  ANDAMAN & NICOBAR ISLANDS                     ...   \n",
            "2012-13_35_3503  ANDAMAN & NICOBAR ISLANDS                     ...   \n",
            "2012-13_35_3502  ANDAMAN & NICOBAR ISLANDS                     ...   \n",
            "2012-13_28_2801  ANDHRA PRADESH                                ...   \n",
            "2012-13_28_2822  ANDHRA PRADESH                                ...   \n",
            "\n",
            "                 distcd_basic  \\\n",
            "unique_id                       \n",
            "2012-13_35_3501          3501   \n",
            "2012-13_35_3503          3503   \n",
            "2012-13_35_3502          3502   \n",
            "2012-13_28_2801          2801   \n",
            "2012-13_28_2822          2822   \n",
            "\n",
            "                                                    distname_basic  blocks  \\\n",
            "unique_id                                                                    \n",
            "2012-13_35_3501  ANDAMANS                                      ...       3   \n",
            "2012-13_35_3503  MIDDLE AND NORTH ANDAMANS                     ...       3   \n",
            "2012-13_35_3502  NICOBARS                                      ...       3   \n",
            "2012-13_28_2801  ADILABAD                                      ...      52   \n",
            "2012-13_28_2822  ANANTAPUR                                     ...      63   \n",
            "\n",
            "                 clusters  villages  totschools  totpopulation  ...  Rep C7  \\\n",
            "unique_id                                                       ...           \n",
            "2012-13_35_3501        16        83         212       237586.0  ...       7   \n",
            "2012-13_35_3503        13        76         181       105539.0  ...       0   \n",
            "2012-13_35_3502         8        42          58        36819.0  ...       5   \n",
            "2012-13_28_2801       356      1576        4983      2737738.0  ...      47   \n",
            "2012-13_28_2822       564       929        5188      4083315.0  ...      84   \n",
            "\n",
            "                 Rep C8  Muslim P  Muslim Up  Muslim G P  Muslim G Up   Obc P  \\\n",
            "unique_id                                                                       \n",
            "2012-13_35_3501       4      2539       1383        1263          690    2289   \n",
            "2012-13_35_3503       0       184        103          98           60    2100   \n",
            "2012-13_35_3502       2        62         34          33           14      17   \n",
            "2012-13_28_2801      49     33747      13901       17216         7520  118300   \n",
            "2012-13_28_2822      72     34185      16310       17082         8465  188353   \n",
            "\n",
            "                 Obc Up  Obc G P Obc G Up  \n",
            "unique_id                                  \n",
            "2012-13_35_3501    1437     1159      747  \n",
            "2012-13_35_3503    1621     1066      825  \n",
            "2012-13_35_3502       5        6        0  \n",
            "2012-13_28_2801   62602    56425    30725  \n",
            "2012-13_28_2822  100391    90967    50266  \n",
            "\n",
            "[5 rows x 185 columns]\n"
          ]
        }
      ]
    },
    {
      "cell_type": "code",
      "source": [
        "basic_data['unique_id'] = (basic_data['Year'].astype(str) + \"_\" +\n",
        "                             basic_data['Statecd'].astype(str) + \"_\" +\n",
        "                             basic_data['distcd'].astype(str))\n",
        "\n",
        "teacher_indicator['unique_id'] = (teacher_indicator['ac_year'].astype(str) + \"_\" +\n",
        "                           teacher_indicator['statecd'].astype(str) + \"_\" +\n",
        "                           teacher_indicator['distcd'].astype(str))\n",
        "\n",
        "# Set the unique identifier as the index\n",
        "basic_data.set_index('unique_id', inplace=True)\n",
        "teacher_indicator.set_index('unique_id', inplace=True)"
      ],
      "metadata": {
        "id": "7WTmUxRj3WrC"
      },
      "execution_count": null,
      "outputs": []
    },
    {
      "cell_type": "code",
      "source": [
        "# Merge the dataframes on the unique identifier\n",
        "B_merged = basic_data.merge(teacher_indicator, on='unique_id', suffixes=('_basic', '_teacher'))\n",
        "\n",
        "print(\"Merged DataFrame for Team B:\")\n",
        "print(B_merged.head())"
      ],
      "metadata": {
        "id": "2128Ewzh3Woh",
        "colab": {
          "base_uri": "https://localhost:8080/"
        },
        "outputId": "288f56fa-946e-4591-ac75-65a26ae8c0fd"
      },
      "execution_count": null,
      "outputs": [
        {
          "output_type": "stream",
          "name": "stdout",
          "text": [
            "Merged DataFrame for Team B:\n",
            "                    Year  Statecd  \\\n",
            "unique_id                           \n",
            "2012-13_35_3501  2012-13       35   \n",
            "2012-13_35_3503  2012-13       35   \n",
            "2012-13_35_3502  2012-13       35   \n",
            "2012-13_28_2801  2012-13       28   \n",
            "2012-13_28_2822  2012-13       28   \n",
            "\n",
            "                                                   statename_basic  \\\n",
            "unique_id                                                            \n",
            "2012-13_35_3501  ANDAMAN & NICOBAR ISLANDS                     ...   \n",
            "2012-13_35_3503  ANDAMAN & NICOBAR ISLANDS                     ...   \n",
            "2012-13_35_3502  ANDAMAN & NICOBAR ISLANDS                     ...   \n",
            "2012-13_28_2801  ANDHRA PRADESH                                ...   \n",
            "2012-13_28_2822  ANDHRA PRADESH                                ...   \n",
            "\n",
            "                 distcd_basic  \\\n",
            "unique_id                       \n",
            "2012-13_35_3501          3501   \n",
            "2012-13_35_3503          3503   \n",
            "2012-13_35_3502          3502   \n",
            "2012-13_28_2801          2801   \n",
            "2012-13_28_2822          2822   \n",
            "\n",
            "                                                    distname_basic  blocks  \\\n",
            "unique_id                                                                    \n",
            "2012-13_35_3501  ANDAMANS                                      ...       3   \n",
            "2012-13_35_3503  MIDDLE AND NORTH ANDAMANS                     ...       3   \n",
            "2012-13_35_3502  NICOBARS                                      ...       3   \n",
            "2012-13_28_2801  ADILABAD                                      ...      52   \n",
            "2012-13_28_2822  ANANTAPUR                                     ...      63   \n",
            "\n",
            "                 clusters  villages  totschools  totpopulation  ...  \\\n",
            "unique_id                                                       ...   \n",
            "2012-13_35_3501        16        83         212       237586.0  ...   \n",
            "2012-13_35_3503        13        76         181       105539.0  ...   \n",
            "2012-13_35_3502         8        42          58        36819.0  ...   \n",
            "2012-13_28_2801       356      1576        4983      2737738.0  ...   \n",
            "2012-13_28_2822       564       929        5188      4083315.0  ...   \n",
            "\n",
            "                 trn_tch_f2  trn_tch_f3  trn_tch_f4  trn_tch_f5  trn_tch_f6  \\\n",
            "unique_id                                                                     \n",
            "2012-13_35_3501         176         135           0          22         103   \n",
            "2012-13_35_3503          85          40           3          28          60   \n",
            "2012-13_35_3502          29          23           0          17          46   \n",
            "2012-13_28_2801         267           0           0           0           8   \n",
            "2012-13_28_2822         726           0           0         591           0   \n",
            "\n",
            "                 trn_tch_f7  prof_trn_tch_r prof_trn_tch_p  days_nontch  \\\n",
            "unique_id                                                                 \n",
            "2012-13_35_3501           0            2968            228           12   \n",
            "2012-13_35_3503           0            1249            203            8   \n",
            "2012-13_35_3502           0             430             78           20   \n",
            "2012-13_28_2801         248           16419            845           13   \n",
            "2012-13_28_2822           3           21487            676           14   \n",
            "\n",
            "                 tch_nontch  \n",
            "unique_id                    \n",
            "2012-13_35_3501         519  \n",
            "2012-13_35_3503         362  \n",
            "2012-13_35_3502          28  \n",
            "2012-13_28_2801         263  \n",
            "2012-13_28_2822        1185  \n",
            "\n",
            "[5 rows x 200 columns]\n"
          ]
        }
      ]
    },
    {
      "cell_type": "markdown",
      "metadata": {
        "id": "_jcX4aRsKMtE"
      },
      "source": [
        "## Exercise 3 - Data Cleaning (3 Marks)\n",
        "\n",
        "1.  **Overall_lit** is our target variable. Delete rows with missing overall_lit value\n",
        "\n",
        "   Hint: Refer to the link [dropna](https://pandas.pydata.org/pandas-docs/stable/reference/api/pandas.DataFrame.dropna.html).\n",
        "\n",
        "\n",
        "2.  Convert categorical values to numerical values.\n",
        "\n",
        "  For example, If a feature contains categorical values such as dog, cat, mouse, etc then replace them with 1, 2, 3, etc or use [Sklearn LabelEncoder's](https://scikit-learn.org/stable/modules/generated/sklearn.preprocessing.LabelEncoder.html)\n",
        "\n",
        "3. Replace the missing values in any other column appropriately with mean / median / mode.\n",
        "\n",
        "  Hint: Use pandas [fillna](https://pandas.pydata.org/pandas-docs/stable/reference/api/pandas.DataFrame.fillna.html) function to replace the missing values\n",
        "\n",
        "\n"
      ]
    },
    {
      "cell_type": "code",
      "source": [
        "merged_df = A_merged\n",
        "\n",
        "# Remove rows with missing 'overall_lit' values\n",
        "A_cleaned_df = merged_df.dropna(subset=['overall_lit'])\n",
        "A_cleaned_df['overall_lit'].isna().sum() # returns 0 because na are removed from overall_lit"
      ],
      "metadata": {
        "id": "lQBpNL_W3Xi4",
        "colab": {
          "base_uri": "https://localhost:8080/"
        },
        "outputId": "5b8835e1-89af-4d75-9584-375924b78616"
      },
      "execution_count": null,
      "outputs": [
        {
          "output_type": "execute_result",
          "data": {
            "text/plain": [
              "0"
            ]
          },
          "metadata": {},
          "execution_count": 278
        }
      ]
    },
    {
      "cell_type": "code",
      "source": [
        "from sklearn.preprocessing import LabelEncoder\n",
        "label_encoder = LabelEncoder()"
      ],
      "metadata": {
        "id": "9pGKXcea3XgE"
      },
      "execution_count": null,
      "outputs": []
    },
    {
      "cell_type": "code",
      "source": [
        "categorical_columns = A_cleaned_df.select_dtypes(include=['object']).columns\n",
        "# Convert categorical columns to numerical values\n",
        "for col in categorical_columns:\n",
        "    A_cleaned_df[col] = label_encoder.fit_transform(A_cleaned_df[col])"
      ],
      "metadata": {
        "id": "O0qbmRtE3Xds"
      },
      "execution_count": null,
      "outputs": []
    },
    {
      "cell_type": "code",
      "source": [
        "# Fill missing values with mean for numerical columns\n",
        "for col in A_cleaned_df.select_dtypes(include=['float64', 'int64']).columns:\n",
        "    A_cleaned_df.loc[:, col] = A_cleaned_df[col].fillna(A_cleaned_df[col].mean())\n",
        "\n",
        "# Fill missing values with mode for categorical columns\n",
        "for col in categorical_columns:\n",
        "    A_cleaned_df.loc[:, col] = A_cleaned_df[col].fillna(A_cleaned_df[col].mode()[0])\n",
        "\n",
        "print(\"Team A Cleaned DataFrame:\")\n",
        "print(A_cleaned_df.head())"
      ],
      "metadata": {
        "id": "6KJPXOOA3Xa1",
        "colab": {
          "base_uri": "https://localhost:8080/"
        },
        "outputId": "7466c152-2b7c-4afc-d1fa-577be8729fa9"
      },
      "execution_count": null,
      "outputs": [
        {
          "output_type": "stream",
          "name": "stdout",
          "text": [
            "Team A Cleaned DataFrame:\n",
            "                 Year_basic  Statecd_basic  statename  distcd_basic  \\\n",
            "unique_id                                                             \n",
            "2012-13_35_3501           0             35          0          3501   \n",
            "2012-13_35_3503           0             35          0          3503   \n",
            "2012-13_35_3502           0             35          0          3502   \n",
            "2012-13_28_2801           0             28          1          2801   \n",
            "2012-13_28_2822           0             28          1          2822   \n",
            "\n",
            "                 distname_basic  blocks  clusters  villages  totschools  \\\n",
            "unique_id                                                                 \n",
            "2012-13_35_3501              21       3        16        83         212   \n",
            "2012-13_35_3503             382       3        13        76         181   \n",
            "2012-13_35_3502             422       3         8        42          58   \n",
            "2012-13_28_2801               0      52       356      1576        4983   \n",
            "2012-13_28_2822              19      63       564       929        5188   \n",
            "\n",
            "                 totpopulation  ...  Rep C7  Rep C8  Muslim P  Muslim Up  \\\n",
            "unique_id                       ...                                        \n",
            "2012-13_35_3501       237586.0  ...       7       4      2539       1383   \n",
            "2012-13_35_3503       105539.0  ...       0       0       184        103   \n",
            "2012-13_35_3502        36819.0  ...       5       2        62         34   \n",
            "2012-13_28_2801      2737738.0  ...      47      49     33747      13901   \n",
            "2012-13_28_2822      4083315.0  ...      84      72     34185      16310   \n",
            "\n",
            "                 Muslim G P  Muslim G Up   Obc P  Obc Up  Obc G P  Obc G Up  \n",
            "unique_id                                                                    \n",
            "2012-13_35_3501        1263          690    2289    1437     1159       747  \n",
            "2012-13_35_3503          98           60    2100    1621     1066       825  \n",
            "2012-13_35_3502          33           14      17       5        6         0  \n",
            "2012-13_28_2801       17216         7520  118300   62602    56425     30725  \n",
            "2012-13_28_2822       17082         8465  188353  100391    90967     50266  \n",
            "\n",
            "[5 rows x 185 columns]\n"
          ]
        }
      ]
    },
    {
      "cell_type": "code",
      "source": [
        "print(\"verification A:\")\n",
        "print(A_cleaned_df.describe())"
      ],
      "metadata": {
        "colab": {
          "base_uri": "https://localhost:8080/"
        },
        "id": "9S-BnE2mGkg_",
        "outputId": "f8c6ff9d-f620-48d3-c115-b2d647ab5367"
      },
      "execution_count": null,
      "outputs": [
        {
          "output_type": "stream",
          "name": "stdout",
          "text": [
            "verification A:\n",
            "        Year_basic  Statecd_basic    statename  distcd_basic  distname_basic  \\\n",
            "count  1268.000000    1268.000000  1268.000000   1268.000000     1268.000000   \n",
            "mean      0.500000      17.033123    19.644322   1719.417981      317.660095   \n",
            "std       0.500197       9.417301    11.022421    940.908552      183.820673   \n",
            "min       0.000000       1.000000     0.000000    101.000000        0.000000   \n",
            "25%       0.000000       9.000000    11.000000    928.000000      158.750000   \n",
            "50%       0.500000      18.000000    20.000000   1818.500000      317.500000   \n",
            "75%       1.000000      24.000000    30.000000   2413.000000      477.000000   \n",
            "max       1.000000      35.000000    36.000000   3503.000000      635.000000   \n",
            "\n",
            "            blocks     clusters     villages   totschools  totpopulation  ...  \\\n",
            "count  1268.000000  1268.000000  1268.000000  1268.000000   1.268000e+03  ...   \n",
            "mean     11.115931   128.695584   912.117508  2207.024448   1.899024e+06  ...   \n",
            "std       9.800454   101.642674   634.507493  1450.959478   1.546865e+06  ...   \n",
            "min       1.000000     1.000000     6.000000    31.000000   7.948000e+03  ...   \n",
            "25%       5.750000    60.000000   399.000000  1110.500000   8.222390e+05  ...   \n",
            "50%       8.000000   105.000000   832.000000  2010.500000   1.564392e+06  ...   \n",
            "75%      13.000000   169.000000  1279.000000  2980.250000   2.588039e+06  ...   \n",
            "max      66.000000   680.000000  3987.000000  9581.000000   1.105413e+07  ...   \n",
            "\n",
            "            Rep C7       Rep C8       Muslim P      Muslim Up     Muslim G P  \\\n",
            "count   1268.00000  1268.000000    1268.000000    1268.000000    1268.000000   \n",
            "mean     366.86041   355.851735   29491.387224   12551.256309   14505.053628   \n",
            "std      835.20367   775.124548   50994.845983   22023.784641   25348.411919   \n",
            "min        0.00000     0.000000       0.000000       0.000000       0.000000   \n",
            "25%       14.00000    14.000000    2387.750000    1180.750000    1130.500000   \n",
            "50%      108.00000   105.000000   12775.500000    5744.000000    6211.000000   \n",
            "75%      349.50000   361.500000   35476.750000   15997.250000   17309.750000   \n",
            "max    10688.00000  9269.000000  679326.000000  310154.000000  337420.000000   \n",
            "\n",
            "         Muslim G Up          Obc P         Obc Up        Obc G P  \\\n",
            "count    1268.000000    1268.000000    1268.000000    1268.000000   \n",
            "mean     6457.936120   89530.261830   44562.936909   43486.231073   \n",
            "std     12036.536708   88437.098703   40442.401817   43358.132078   \n",
            "min         0.000000       0.000000       0.000000       0.000000   \n",
            "25%       594.250000   15585.000000    8539.250000    7646.750000   \n",
            "50%      2912.500000   68051.500000   37306.500000   32807.500000   \n",
            "75%      8111.500000  133058.000000   68900.000000   64670.750000   \n",
            "max    176205.000000  527187.000000  229770.000000  257830.000000   \n",
            "\n",
            "            Obc G Up  \n",
            "count    1268.000000  \n",
            "mean    21776.947161  \n",
            "std     19980.878799  \n",
            "min         0.000000  \n",
            "25%      4190.250000  \n",
            "50%     18418.000000  \n",
            "75%     33574.750000  \n",
            "max    111930.000000  \n",
            "\n",
            "[8 rows x 185 columns]\n"
          ]
        }
      ]
    },
    {
      "cell_type": "code",
      "source": [
        "merged_df = B_merged\n",
        "\n",
        "# Remove rows with missing 'overall_lit' values\n",
        "B_cleaned_df = merged_df.dropna(subset=['overall_lit']).copy()\n",
        "B_cleaned_df['overall_lit'].isna().sum() # returns 0 because na are removed from overall_lit"
      ],
      "metadata": {
        "colab": {
          "base_uri": "https://localhost:8080/"
        },
        "id": "qSTE0jkeFRhi",
        "outputId": "17e4629b-5772-45fa-d1e2-e8c2dd28acf9"
      },
      "execution_count": null,
      "outputs": [
        {
          "output_type": "execute_result",
          "data": {
            "text/plain": [
              "0"
            ]
          },
          "metadata": {},
          "execution_count": 285
        }
      ]
    },
    {
      "cell_type": "code",
      "source": [
        "from sklearn.preprocessing import LabelEncoder\n",
        "label_encoder = LabelEncoder()"
      ],
      "metadata": {
        "id": "A7YS9L9TFkAn"
      },
      "execution_count": null,
      "outputs": []
    },
    {
      "cell_type": "code",
      "source": [
        "categorical_columns = B_cleaned_df.select_dtypes(include=['object']).columns\n",
        "# Convert categorical columns to numerical values\n",
        "for col in categorical_columns:\n",
        "    B_cleaned_df[col] = label_encoder.fit_transform(B_cleaned_df[col])\n",
        "\n",
        "# Fill missing values with mean for numerical columns\n",
        "for col in B_cleaned_df.select_dtypes(include=['float64', 'int64']).columns:\n",
        "    B_cleaned_df.loc[:, col] = B_cleaned_df[col].fillna(B_cleaned_df[col].mean())"
      ],
      "metadata": {
        "id": "RDjLzuljFrec"
      },
      "execution_count": null,
      "outputs": []
    },
    {
      "cell_type": "code",
      "source": [
        "print(\"Team B Cleaned DataFrame:\")\n",
        "print(B_cleaned_df.head())"
      ],
      "metadata": {
        "colab": {
          "base_uri": "https://localhost:8080/"
        },
        "id": "jPJNQQw0FrqR",
        "outputId": "57ad5f00-3c60-4c24-a8cf-c02e83fa3b92"
      },
      "execution_count": null,
      "outputs": [
        {
          "output_type": "stream",
          "name": "stdout",
          "text": [
            "Team B Cleaned DataFrame:\n",
            "                 Year  Statecd  statename_basic  distcd_basic  distname_basic  \\\n",
            "unique_id                                                                       \n",
            "2012-13_35_3501     0       35                0          3501              21   \n",
            "2012-13_35_3503     0       35                0          3503             382   \n",
            "2012-13_35_3502     0       35                0          3502             422   \n",
            "2012-13_28_2801     0       28                1          2801               0   \n",
            "2012-13_28_2822     0       28                1          2822              19   \n",
            "\n",
            "                 blocks  clusters  villages  totschools  totpopulation  ...  \\\n",
            "unique_id                                                               ...   \n",
            "2012-13_35_3501       3        16        83         212       237586.0  ...   \n",
            "2012-13_35_3503       3        13        76         181       105539.0  ...   \n",
            "2012-13_35_3502       3         8        42          58        36819.0  ...   \n",
            "2012-13_28_2801      52       356      1576        4983      2737738.0  ...   \n",
            "2012-13_28_2822      63       564       929        5188      4083315.0  ...   \n",
            "\n",
            "                 trn_tch_f2  trn_tch_f3  trn_tch_f4  trn_tch_f5  trn_tch_f6  \\\n",
            "unique_id                                                                     \n",
            "2012-13_35_3501         176         135           0          22         103   \n",
            "2012-13_35_3503          85          40           3          28          60   \n",
            "2012-13_35_3502          29          23           0          17          46   \n",
            "2012-13_28_2801         267           0           0           0           8   \n",
            "2012-13_28_2822         726           0           0         591           0   \n",
            "\n",
            "                 trn_tch_f7  prof_trn_tch_r  prof_trn_tch_p  days_nontch  \\\n",
            "unique_id                                                                  \n",
            "2012-13_35_3501           0            2968             228           12   \n",
            "2012-13_35_3503           0            1249             203            8   \n",
            "2012-13_35_3502           0             430              78           20   \n",
            "2012-13_28_2801         248           16419             845           13   \n",
            "2012-13_28_2822           3           21487             676           14   \n",
            "\n",
            "                 tch_nontch  \n",
            "unique_id                    \n",
            "2012-13_35_3501         519  \n",
            "2012-13_35_3503         362  \n",
            "2012-13_35_3502          28  \n",
            "2012-13_28_2801         263  \n",
            "2012-13_28_2822        1185  \n",
            "\n",
            "[5 rows x 200 columns]\n"
          ]
        }
      ]
    },
    {
      "cell_type": "code",
      "source": [
        "print(\"Verification Team B:\")\n",
        "print(B_cleaned_df.describe())"
      ],
      "metadata": {
        "colab": {
          "base_uri": "https://localhost:8080/"
        },
        "id": "YSvMVEH7G7Kz",
        "outputId": "844a2f5d-52cd-40a2-981a-70a1de11c87b"
      },
      "execution_count": null,
      "outputs": [
        {
          "output_type": "stream",
          "name": "stdout",
          "text": [
            "Verification Team B:\n",
            "              Year      Statecd  statename_basic  distcd_basic  \\\n",
            "count  1268.000000  1268.000000      1268.000000   1268.000000   \n",
            "mean      0.500000    17.033123        19.644322   1719.417981   \n",
            "std       0.500197     9.417301        11.022421    940.908552   \n",
            "min       0.000000     1.000000         0.000000    101.000000   \n",
            "25%       0.000000     9.000000        11.000000    928.000000   \n",
            "50%       0.500000    18.000000        20.000000   1818.500000   \n",
            "75%       1.000000    24.000000        30.000000   2413.000000   \n",
            "max       1.000000    35.000000        36.000000   3503.000000   \n",
            "\n",
            "       distname_basic       blocks     clusters     villages   totschools  \\\n",
            "count     1268.000000  1268.000000  1268.000000  1268.000000  1268.000000   \n",
            "mean       317.660095    11.115931   128.695584   912.117508  2207.024448   \n",
            "std        183.820673     9.800454   101.642674   634.507493  1450.959478   \n",
            "min          0.000000     1.000000     1.000000     6.000000    31.000000   \n",
            "25%        158.750000     5.750000    60.000000   399.000000  1110.500000   \n",
            "50%        317.500000     8.000000   105.000000   832.000000  2010.500000   \n",
            "75%        477.000000    13.000000   169.000000  1279.000000  2980.250000   \n",
            "max        635.000000    66.000000   680.000000  3987.000000  9581.000000   \n",
            "\n",
            "       totpopulation  ...   trn_tch_f2   trn_tch_f3   trn_tch_f4   trn_tch_f5  \\\n",
            "count   1.268000e+03  ...  1268.000000  1268.000000  1268.000000  1268.000000   \n",
            "mean    1.899024e+06  ...   436.771293    32.235804    63.839117    85.380915   \n",
            "std     1.546865e+06  ...   890.903608   199.912890   129.254450   216.829102   \n",
            "min     7.948000e+03  ...     0.000000     0.000000     0.000000     0.000000   \n",
            "25%     8.222390e+05  ...     1.000000     0.000000     0.000000     0.000000   \n",
            "50%     1.564392e+06  ...    39.000000     0.000000    10.500000     0.000000   \n",
            "75%     2.588039e+06  ...   415.000000     4.000000    72.500000    29.000000   \n",
            "max     1.105413e+07  ...  9519.000000  3473.000000  1699.000000  1587.000000   \n",
            "\n",
            "        trn_tch_f6   trn_tch_f7  prof_trn_tch_r  prof_trn_tch_p  days_nontch  \\\n",
            "count  1268.000000  1268.000000     1268.000000     1268.000000  1268.000000   \n",
            "mean     18.529968    41.016562     8558.583596      435.862776    17.541009   \n",
            "std      66.282037   108.803490     7122.152154      708.050039    15.431670   \n",
            "min       0.000000     0.000000       16.000000        0.000000     0.000000   \n",
            "25%       0.000000     0.000000     3527.750000        9.750000     9.000000   \n",
            "50%       1.000000     1.000000     6892.500000      155.000000    14.000000   \n",
            "75%      12.000000    27.000000    11281.250000      553.250000    21.000000   \n",
            "max    1007.000000  1283.000000    59292.000000     6195.000000   205.000000   \n",
            "\n",
            "         tch_nontch  \n",
            "count   1268.000000  \n",
            "mean     464.907729  \n",
            "std     1149.245227  \n",
            "min        0.000000  \n",
            "25%       50.000000  \n",
            "50%      147.000000  \n",
            "75%      429.000000  \n",
            "max    17044.000000  \n",
            "\n",
            "[8 rows x 200 columns]\n"
          ]
        }
      ]
    },
    {
      "cell_type": "markdown",
      "metadata": {
        "id": "SzsY-knQKMtI"
      },
      "source": [
        "## Exercise 4 - (3 Marks)\n",
        "\n",
        "1. Remove the unnecessary columns which are not contributing to the overall literacy rate\n",
        "\n",
        "2. Verify if there are any duplicate columns and remove them.\n",
        "\n",
        "  For example: state name and district name are the same as state code and district code.\n",
        "\n",
        "3. Make sure that the final dataframe has no null or nan values. Delete the rows with missing values.\n",
        "\n",
        "   Hint: Give df.isna() to verify on the nan values in the dataframe."
      ]
    },
    {
      "cell_type": "code",
      "source": [
        "A_cleaned_df.reset_index(inplace=True)"
      ],
      "metadata": {
        "id": "BUDr6TD63YJx",
        "colab": {
          "base_uri": "https://localhost:8080/"
        },
        "outputId": "42480978-f4b2-4be3-bea9-20ea175921b7"
      },
      "execution_count": null,
      "outputs": [
        {
          "output_type": "execute_result",
          "data": {
            "text/plain": [
              "Index(['Year_basic', 'Statecd_basic', 'statename', 'distcd_basic', 'blocks',\n",
              "       'clusters', 'villages', 'totschools', 'totpopulation', 'p_06_pop',\n",
              "       ...\n",
              "       'Rep C7', 'Rep C8', 'Muslim P', 'Muslim Up', 'Muslim G P',\n",
              "       'Muslim G Up', 'Obc P', 'Obc Up', 'Obc G P', 'Obc G Up'],\n",
              "      dtype='object', length=174)"
            ]
          },
          "metadata": {},
          "execution_count": 306
        }
      ]
    },
    {
      "cell_type": "code",
      "source": [
        "columns_to_drop = ['level_0','unique_id','statename_basic', 'distname_basic']\n",
        "A_cleaned_df = A_cleaned_df.drop(columns=columns_to_drop, errors='ignore')\n",
        "\n",
        "# Remove duplicate columns\n",
        "A_cleaned_df_T = A_cleaned_df.T\n",
        "A_cleaned_df_T = A_cleaned_df_T.drop_duplicates()\n",
        "A_cleaned_df = A_cleaned_df_T.T\n",
        "\n",
        "# Ensure no null values\n",
        "A_cleaned_df = A_cleaned_df.dropna()\n",
        "\n",
        "print(\"Final cleaned DataFrame for Team A:\")\n",
        "print(A_cleaned_df.head())"
      ],
      "metadata": {
        "id": "9ADT6UYD3YMg",
        "colab": {
          "base_uri": "https://localhost:8080/"
        },
        "outputId": "0ff847db-3ff0-4d35-bc19-3248dffa5941"
      },
      "execution_count": null,
      "outputs": [
        {
          "output_type": "stream",
          "name": "stdout",
          "text": [
            "Final cleaned DataFrame for Team A:\n",
            "  Year_basic Statecd_basic statename distcd_basic blocks clusters villages  \\\n",
            "0          0            35         0         3501      3       16       83   \n",
            "1          0            35         0         3503      3       13       76   \n",
            "2          0            35         0         3502      3        8       42   \n",
            "3          0            28         1         2801     52      356     1576   \n",
            "4          0            28         1         2822     63      564      929   \n",
            "\n",
            "  totschools totpopulation   p_06_pop  ... Rep C7 Rep C8 Muslim P Muslim Up  \\\n",
            "0        212      237586.0   23616.05  ...      7      4     2539      1383   \n",
            "1        181      105539.0   11651.51  ...      0      0      184       103   \n",
            "2         58       36819.0    4226.82  ...      5      2       62        34   \n",
            "3       4983     2737738.0   295675.7  ...     47     49    33747     13901   \n",
            "4       5188     4083315.0  427114.75  ...     84     72    34185     16310   \n",
            "\n",
            "  Muslim G P Muslim G Up   Obc P  Obc Up Obc G P Obc G Up  \n",
            "0       1263         690    2289    1437    1159      747  \n",
            "1         98          60    2100    1621    1066      825  \n",
            "2         33          14      17       5       6        0  \n",
            "3      17216        7520  118300   62602   56425    30725  \n",
            "4      17082        8465  188353  100391   90967    50266  \n",
            "\n",
            "[5 rows x 174 columns]\n"
          ]
        }
      ]
    },
    {
      "cell_type": "code",
      "source": [
        "B_cleaned_df.reset_index(inplace=True)"
      ],
      "metadata": {
        "id": "9mC1EoqN3YHK"
      },
      "execution_count": null,
      "outputs": []
    },
    {
      "cell_type": "code",
      "source": [
        "B_cleaned_df"
      ],
      "metadata": {
        "colab": {
          "base_uri": "https://localhost:8080/",
          "height": 617
        },
        "id": "fFTv1GL_azKO",
        "outputId": "e386eb60-ec2b-4f35-eaff-3b7359bdeefe"
      },
      "execution_count": null,
      "outputs": [
        {
          "output_type": "execute_result",
          "data": {
            "text/plain": [
              "            unique_id  Year  Statecd  statename_basic  distcd_basic  \\\n",
              "0     2012-13_35_3501     0       35                0          3501   \n",
              "1     2012-13_35_3503     0       35                0          3503   \n",
              "2     2012-13_35_3502     0       35                0          3502   \n",
              "3     2012-13_28_2801     0       28                1          2801   \n",
              "4     2012-13_28_2822     0       28                1          2822   \n",
              "...               ...   ...      ...              ...           ...   \n",
              "1263  2013-14_19_1919     1       19               36          1919   \n",
              "1264  2013-14_19_1914     1       19               36          1914   \n",
              "1265  2013-14_19_1921     1       19               36          1921   \n",
              "1266  2013-14_19_1918     1       19               36          1918   \n",
              "1267  2013-14_19_1904     1       19               36          1904   \n",
              "\n",
              "      distname_basic  blocks  clusters  villages  totschools  ...  trn_tch_f2  \\\n",
              "0                 21       3        16        83         212  ...         176   \n",
              "1                382       3        13        76         181  ...          85   \n",
              "2                422       3         8        42          58  ...          29   \n",
              "3                  0      52       356      1576        4983  ...         267   \n",
              "4                 19      63       564       929        5188  ...         726   \n",
              "...              ...     ...       ...       ...         ...  ...         ...   \n",
              "1263             466      30        59      3974        6624  ...           2   \n",
              "1264             470      23       182      1757        4911  ...           0   \n",
              "1265             536       5        59       360        1305  ...           0   \n",
              "1266             553      36       348      3742        7110  ...           0   \n",
              "1267             605      13       115      1131        3236  ...           0   \n",
              "\n",
              "      trn_tch_f3  trn_tch_f4  trn_tch_f5  trn_tch_f6  trn_tch_f7  \\\n",
              "0            135           0          22         103           0   \n",
              "1             40           3          28          60           0   \n",
              "2             23           0          17          46           0   \n",
              "3              0           0           0           8         248   \n",
              "4              0           0         591           0           3   \n",
              "...          ...         ...         ...         ...         ...   \n",
              "1263           0          25          38           0          44   \n",
              "1264           0           6           9           0          12   \n",
              "1265           0           0          19           0           4   \n",
              "1266           0          66         123           1         116   \n",
              "1267           1          36          53           0          14   \n",
              "\n",
              "      prof_trn_tch_r  prof_trn_tch_p  days_nontch  tch_nontch  \n",
              "0               2968             228           12         519  \n",
              "1               1249             203            8         362  \n",
              "2                430              78           20          28  \n",
              "3              16419             845           13         263  \n",
              "4              21487             676           14        1185  \n",
              "...              ...             ...          ...         ...  \n",
              "1263           18182             742           17        1615  \n",
              "1264            9173             290           11         878  \n",
              "1265            2576             122           13         108  \n",
              "1266           14882             711           21        3591  \n",
              "1267            5561             250           27        2243  \n",
              "\n",
              "[1268 rows x 201 columns]"
            ],
            "text/html": [
              "\n",
              "  <div id=\"df-b845e7e3-3afa-4877-a5ea-52398ebd34e2\" class=\"colab-df-container\">\n",
              "    <div>\n",
              "<style scoped>\n",
              "    .dataframe tbody tr th:only-of-type {\n",
              "        vertical-align: middle;\n",
              "    }\n",
              "\n",
              "    .dataframe tbody tr th {\n",
              "        vertical-align: top;\n",
              "    }\n",
              "\n",
              "    .dataframe thead th {\n",
              "        text-align: right;\n",
              "    }\n",
              "</style>\n",
              "<table border=\"1\" class=\"dataframe\">\n",
              "  <thead>\n",
              "    <tr style=\"text-align: right;\">\n",
              "      <th></th>\n",
              "      <th>unique_id</th>\n",
              "      <th>Year</th>\n",
              "      <th>Statecd</th>\n",
              "      <th>statename_basic</th>\n",
              "      <th>distcd_basic</th>\n",
              "      <th>distname_basic</th>\n",
              "      <th>blocks</th>\n",
              "      <th>clusters</th>\n",
              "      <th>villages</th>\n",
              "      <th>totschools</th>\n",
              "      <th>...</th>\n",
              "      <th>trn_tch_f2</th>\n",
              "      <th>trn_tch_f3</th>\n",
              "      <th>trn_tch_f4</th>\n",
              "      <th>trn_tch_f5</th>\n",
              "      <th>trn_tch_f6</th>\n",
              "      <th>trn_tch_f7</th>\n",
              "      <th>prof_trn_tch_r</th>\n",
              "      <th>prof_trn_tch_p</th>\n",
              "      <th>days_nontch</th>\n",
              "      <th>tch_nontch</th>\n",
              "    </tr>\n",
              "  </thead>\n",
              "  <tbody>\n",
              "    <tr>\n",
              "      <th>0</th>\n",
              "      <td>2012-13_35_3501</td>\n",
              "      <td>0</td>\n",
              "      <td>35</td>\n",
              "      <td>0</td>\n",
              "      <td>3501</td>\n",
              "      <td>21</td>\n",
              "      <td>3</td>\n",
              "      <td>16</td>\n",
              "      <td>83</td>\n",
              "      <td>212</td>\n",
              "      <td>...</td>\n",
              "      <td>176</td>\n",
              "      <td>135</td>\n",
              "      <td>0</td>\n",
              "      <td>22</td>\n",
              "      <td>103</td>\n",
              "      <td>0</td>\n",
              "      <td>2968</td>\n",
              "      <td>228</td>\n",
              "      <td>12</td>\n",
              "      <td>519</td>\n",
              "    </tr>\n",
              "    <tr>\n",
              "      <th>1</th>\n",
              "      <td>2012-13_35_3503</td>\n",
              "      <td>0</td>\n",
              "      <td>35</td>\n",
              "      <td>0</td>\n",
              "      <td>3503</td>\n",
              "      <td>382</td>\n",
              "      <td>3</td>\n",
              "      <td>13</td>\n",
              "      <td>76</td>\n",
              "      <td>181</td>\n",
              "      <td>...</td>\n",
              "      <td>85</td>\n",
              "      <td>40</td>\n",
              "      <td>3</td>\n",
              "      <td>28</td>\n",
              "      <td>60</td>\n",
              "      <td>0</td>\n",
              "      <td>1249</td>\n",
              "      <td>203</td>\n",
              "      <td>8</td>\n",
              "      <td>362</td>\n",
              "    </tr>\n",
              "    <tr>\n",
              "      <th>2</th>\n",
              "      <td>2012-13_35_3502</td>\n",
              "      <td>0</td>\n",
              "      <td>35</td>\n",
              "      <td>0</td>\n",
              "      <td>3502</td>\n",
              "      <td>422</td>\n",
              "      <td>3</td>\n",
              "      <td>8</td>\n",
              "      <td>42</td>\n",
              "      <td>58</td>\n",
              "      <td>...</td>\n",
              "      <td>29</td>\n",
              "      <td>23</td>\n",
              "      <td>0</td>\n",
              "      <td>17</td>\n",
              "      <td>46</td>\n",
              "      <td>0</td>\n",
              "      <td>430</td>\n",
              "      <td>78</td>\n",
              "      <td>20</td>\n",
              "      <td>28</td>\n",
              "    </tr>\n",
              "    <tr>\n",
              "      <th>3</th>\n",
              "      <td>2012-13_28_2801</td>\n",
              "      <td>0</td>\n",
              "      <td>28</td>\n",
              "      <td>1</td>\n",
              "      <td>2801</td>\n",
              "      <td>0</td>\n",
              "      <td>52</td>\n",
              "      <td>356</td>\n",
              "      <td>1576</td>\n",
              "      <td>4983</td>\n",
              "      <td>...</td>\n",
              "      <td>267</td>\n",
              "      <td>0</td>\n",
              "      <td>0</td>\n",
              "      <td>0</td>\n",
              "      <td>8</td>\n",
              "      <td>248</td>\n",
              "      <td>16419</td>\n",
              "      <td>845</td>\n",
              "      <td>13</td>\n",
              "      <td>263</td>\n",
              "    </tr>\n",
              "    <tr>\n",
              "      <th>4</th>\n",
              "      <td>2012-13_28_2822</td>\n",
              "      <td>0</td>\n",
              "      <td>28</td>\n",
              "      <td>1</td>\n",
              "      <td>2822</td>\n",
              "      <td>19</td>\n",
              "      <td>63</td>\n",
              "      <td>564</td>\n",
              "      <td>929</td>\n",
              "      <td>5188</td>\n",
              "      <td>...</td>\n",
              "      <td>726</td>\n",
              "      <td>0</td>\n",
              "      <td>0</td>\n",
              "      <td>591</td>\n",
              "      <td>0</td>\n",
              "      <td>3</td>\n",
              "      <td>21487</td>\n",
              "      <td>676</td>\n",
              "      <td>14</td>\n",
              "      <td>1185</td>\n",
              "    </tr>\n",
              "    <tr>\n",
              "      <th>...</th>\n",
              "      <td>...</td>\n",
              "      <td>...</td>\n",
              "      <td>...</td>\n",
              "      <td>...</td>\n",
              "      <td>...</td>\n",
              "      <td>...</td>\n",
              "      <td>...</td>\n",
              "      <td>...</td>\n",
              "      <td>...</td>\n",
              "      <td>...</td>\n",
              "      <td>...</td>\n",
              "      <td>...</td>\n",
              "      <td>...</td>\n",
              "      <td>...</td>\n",
              "      <td>...</td>\n",
              "      <td>...</td>\n",
              "      <td>...</td>\n",
              "      <td>...</td>\n",
              "      <td>...</td>\n",
              "      <td>...</td>\n",
              "      <td>...</td>\n",
              "    </tr>\n",
              "    <tr>\n",
              "      <th>1263</th>\n",
              "      <td>2013-14_19_1919</td>\n",
              "      <td>1</td>\n",
              "      <td>19</td>\n",
              "      <td>36</td>\n",
              "      <td>1919</td>\n",
              "      <td>466</td>\n",
              "      <td>30</td>\n",
              "      <td>59</td>\n",
              "      <td>3974</td>\n",
              "      <td>6624</td>\n",
              "      <td>...</td>\n",
              "      <td>2</td>\n",
              "      <td>0</td>\n",
              "      <td>25</td>\n",
              "      <td>38</td>\n",
              "      <td>0</td>\n",
              "      <td>44</td>\n",
              "      <td>18182</td>\n",
              "      <td>742</td>\n",
              "      <td>17</td>\n",
              "      <td>1615</td>\n",
              "    </tr>\n",
              "    <tr>\n",
              "      <th>1264</th>\n",
              "      <td>2013-14_19_1914</td>\n",
              "      <td>1</td>\n",
              "      <td>19</td>\n",
              "      <td>36</td>\n",
              "      <td>1914</td>\n",
              "      <td>470</td>\n",
              "      <td>23</td>\n",
              "      <td>182</td>\n",
              "      <td>1757</td>\n",
              "      <td>4911</td>\n",
              "      <td>...</td>\n",
              "      <td>0</td>\n",
              "      <td>0</td>\n",
              "      <td>6</td>\n",
              "      <td>9</td>\n",
              "      <td>0</td>\n",
              "      <td>12</td>\n",
              "      <td>9173</td>\n",
              "      <td>290</td>\n",
              "      <td>11</td>\n",
              "      <td>878</td>\n",
              "    </tr>\n",
              "    <tr>\n",
              "      <th>1265</th>\n",
              "      <td>2013-14_19_1921</td>\n",
              "      <td>1</td>\n",
              "      <td>19</td>\n",
              "      <td>36</td>\n",
              "      <td>1921</td>\n",
              "      <td>536</td>\n",
              "      <td>5</td>\n",
              "      <td>59</td>\n",
              "      <td>360</td>\n",
              "      <td>1305</td>\n",
              "      <td>...</td>\n",
              "      <td>0</td>\n",
              "      <td>0</td>\n",
              "      <td>0</td>\n",
              "      <td>19</td>\n",
              "      <td>0</td>\n",
              "      <td>4</td>\n",
              "      <td>2576</td>\n",
              "      <td>122</td>\n",
              "      <td>13</td>\n",
              "      <td>108</td>\n",
              "    </tr>\n",
              "    <tr>\n",
              "      <th>1266</th>\n",
              "      <td>2013-14_19_1918</td>\n",
              "      <td>1</td>\n",
              "      <td>19</td>\n",
              "      <td>36</td>\n",
              "      <td>1918</td>\n",
              "      <td>553</td>\n",
              "      <td>36</td>\n",
              "      <td>348</td>\n",
              "      <td>3742</td>\n",
              "      <td>7110</td>\n",
              "      <td>...</td>\n",
              "      <td>0</td>\n",
              "      <td>0</td>\n",
              "      <td>66</td>\n",
              "      <td>123</td>\n",
              "      <td>1</td>\n",
              "      <td>116</td>\n",
              "      <td>14882</td>\n",
              "      <td>711</td>\n",
              "      <td>21</td>\n",
              "      <td>3591</td>\n",
              "    </tr>\n",
              "    <tr>\n",
              "      <th>1267</th>\n",
              "      <td>2013-14_19_1904</td>\n",
              "      <td>1</td>\n",
              "      <td>19</td>\n",
              "      <td>36</td>\n",
              "      <td>1904</td>\n",
              "      <td>605</td>\n",
              "      <td>13</td>\n",
              "      <td>115</td>\n",
              "      <td>1131</td>\n",
              "      <td>3236</td>\n",
              "      <td>...</td>\n",
              "      <td>0</td>\n",
              "      <td>1</td>\n",
              "      <td>36</td>\n",
              "      <td>53</td>\n",
              "      <td>0</td>\n",
              "      <td>14</td>\n",
              "      <td>5561</td>\n",
              "      <td>250</td>\n",
              "      <td>27</td>\n",
              "      <td>2243</td>\n",
              "    </tr>\n",
              "  </tbody>\n",
              "</table>\n",
              "<p>1268 rows × 201 columns</p>\n",
              "</div>\n",
              "    <div class=\"colab-df-buttons\">\n",
              "\n",
              "  <div class=\"colab-df-container\">\n",
              "    <button class=\"colab-df-convert\" onclick=\"convertToInteractive('df-b845e7e3-3afa-4877-a5ea-52398ebd34e2')\"\n",
              "            title=\"Convert this dataframe to an interactive table.\"\n",
              "            style=\"display:none;\">\n",
              "\n",
              "  <svg xmlns=\"http://www.w3.org/2000/svg\" height=\"24px\" viewBox=\"0 -960 960 960\">\n",
              "    <path d=\"M120-120v-720h720v720H120Zm60-500h600v-160H180v160Zm220 220h160v-160H400v160Zm0 220h160v-160H400v160ZM180-400h160v-160H180v160Zm440 0h160v-160H620v160ZM180-180h160v-160H180v160Zm440 0h160v-160H620v160Z\"/>\n",
              "  </svg>\n",
              "    </button>\n",
              "\n",
              "  <style>\n",
              "    .colab-df-container {\n",
              "      display:flex;\n",
              "      gap: 12px;\n",
              "    }\n",
              "\n",
              "    .colab-df-convert {\n",
              "      background-color: #E8F0FE;\n",
              "      border: none;\n",
              "      border-radius: 50%;\n",
              "      cursor: pointer;\n",
              "      display: none;\n",
              "      fill: #1967D2;\n",
              "      height: 32px;\n",
              "      padding: 0 0 0 0;\n",
              "      width: 32px;\n",
              "    }\n",
              "\n",
              "    .colab-df-convert:hover {\n",
              "      background-color: #E2EBFA;\n",
              "      box-shadow: 0px 1px 2px rgba(60, 64, 67, 0.3), 0px 1px 3px 1px rgba(60, 64, 67, 0.15);\n",
              "      fill: #174EA6;\n",
              "    }\n",
              "\n",
              "    .colab-df-buttons div {\n",
              "      margin-bottom: 4px;\n",
              "    }\n",
              "\n",
              "    [theme=dark] .colab-df-convert {\n",
              "      background-color: #3B4455;\n",
              "      fill: #D2E3FC;\n",
              "    }\n",
              "\n",
              "    [theme=dark] .colab-df-convert:hover {\n",
              "      background-color: #434B5C;\n",
              "      box-shadow: 0px 1px 3px 1px rgba(0, 0, 0, 0.15);\n",
              "      filter: drop-shadow(0px 1px 2px rgba(0, 0, 0, 0.3));\n",
              "      fill: #FFFFFF;\n",
              "    }\n",
              "  </style>\n",
              "\n",
              "    <script>\n",
              "      const buttonEl =\n",
              "        document.querySelector('#df-b845e7e3-3afa-4877-a5ea-52398ebd34e2 button.colab-df-convert');\n",
              "      buttonEl.style.display =\n",
              "        google.colab.kernel.accessAllowed ? 'block' : 'none';\n",
              "\n",
              "      async function convertToInteractive(key) {\n",
              "        const element = document.querySelector('#df-b845e7e3-3afa-4877-a5ea-52398ebd34e2');\n",
              "        const dataTable =\n",
              "          await google.colab.kernel.invokeFunction('convertToInteractive',\n",
              "                                                    [key], {});\n",
              "        if (!dataTable) return;\n",
              "\n",
              "        const docLinkHtml = 'Like what you see? Visit the ' +\n",
              "          '<a target=\"_blank\" href=https://colab.research.google.com/notebooks/data_table.ipynb>data table notebook</a>'\n",
              "          + ' to learn more about interactive tables.';\n",
              "        element.innerHTML = '';\n",
              "        dataTable['output_type'] = 'display_data';\n",
              "        await google.colab.output.renderOutput(dataTable, element);\n",
              "        const docLink = document.createElement('div');\n",
              "        docLink.innerHTML = docLinkHtml;\n",
              "        element.appendChild(docLink);\n",
              "      }\n",
              "    </script>\n",
              "  </div>\n",
              "\n",
              "\n",
              "<div id=\"df-62c3ab3c-4877-4ff4-a1a0-1315bd6b6ee8\">\n",
              "  <button class=\"colab-df-quickchart\" onclick=\"quickchart('df-62c3ab3c-4877-4ff4-a1a0-1315bd6b6ee8')\"\n",
              "            title=\"Suggest charts\"\n",
              "            style=\"display:none;\">\n",
              "\n",
              "<svg xmlns=\"http://www.w3.org/2000/svg\" height=\"24px\"viewBox=\"0 0 24 24\"\n",
              "     width=\"24px\">\n",
              "    <g>\n",
              "        <path d=\"M19 3H5c-1.1 0-2 .9-2 2v14c0 1.1.9 2 2 2h14c1.1 0 2-.9 2-2V5c0-1.1-.9-2-2-2zM9 17H7v-7h2v7zm4 0h-2V7h2v10zm4 0h-2v-4h2v4z\"/>\n",
              "    </g>\n",
              "</svg>\n",
              "  </button>\n",
              "\n",
              "<style>\n",
              "  .colab-df-quickchart {\n",
              "      --bg-color: #E8F0FE;\n",
              "      --fill-color: #1967D2;\n",
              "      --hover-bg-color: #E2EBFA;\n",
              "      --hover-fill-color: #174EA6;\n",
              "      --disabled-fill-color: #AAA;\n",
              "      --disabled-bg-color: #DDD;\n",
              "  }\n",
              "\n",
              "  [theme=dark] .colab-df-quickchart {\n",
              "      --bg-color: #3B4455;\n",
              "      --fill-color: #D2E3FC;\n",
              "      --hover-bg-color: #434B5C;\n",
              "      --hover-fill-color: #FFFFFF;\n",
              "      --disabled-bg-color: #3B4455;\n",
              "      --disabled-fill-color: #666;\n",
              "  }\n",
              "\n",
              "  .colab-df-quickchart {\n",
              "    background-color: var(--bg-color);\n",
              "    border: none;\n",
              "    border-radius: 50%;\n",
              "    cursor: pointer;\n",
              "    display: none;\n",
              "    fill: var(--fill-color);\n",
              "    height: 32px;\n",
              "    padding: 0;\n",
              "    width: 32px;\n",
              "  }\n",
              "\n",
              "  .colab-df-quickchart:hover {\n",
              "    background-color: var(--hover-bg-color);\n",
              "    box-shadow: 0 1px 2px rgba(60, 64, 67, 0.3), 0 1px 3px 1px rgba(60, 64, 67, 0.15);\n",
              "    fill: var(--button-hover-fill-color);\n",
              "  }\n",
              "\n",
              "  .colab-df-quickchart-complete:disabled,\n",
              "  .colab-df-quickchart-complete:disabled:hover {\n",
              "    background-color: var(--disabled-bg-color);\n",
              "    fill: var(--disabled-fill-color);\n",
              "    box-shadow: none;\n",
              "  }\n",
              "\n",
              "  .colab-df-spinner {\n",
              "    border: 2px solid var(--fill-color);\n",
              "    border-color: transparent;\n",
              "    border-bottom-color: var(--fill-color);\n",
              "    animation:\n",
              "      spin 1s steps(1) infinite;\n",
              "  }\n",
              "\n",
              "  @keyframes spin {\n",
              "    0% {\n",
              "      border-color: transparent;\n",
              "      border-bottom-color: var(--fill-color);\n",
              "      border-left-color: var(--fill-color);\n",
              "    }\n",
              "    20% {\n",
              "      border-color: transparent;\n",
              "      border-left-color: var(--fill-color);\n",
              "      border-top-color: var(--fill-color);\n",
              "    }\n",
              "    30% {\n",
              "      border-color: transparent;\n",
              "      border-left-color: var(--fill-color);\n",
              "      border-top-color: var(--fill-color);\n",
              "      border-right-color: var(--fill-color);\n",
              "    }\n",
              "    40% {\n",
              "      border-color: transparent;\n",
              "      border-right-color: var(--fill-color);\n",
              "      border-top-color: var(--fill-color);\n",
              "    }\n",
              "    60% {\n",
              "      border-color: transparent;\n",
              "      border-right-color: var(--fill-color);\n",
              "    }\n",
              "    80% {\n",
              "      border-color: transparent;\n",
              "      border-right-color: var(--fill-color);\n",
              "      border-bottom-color: var(--fill-color);\n",
              "    }\n",
              "    90% {\n",
              "      border-color: transparent;\n",
              "      border-bottom-color: var(--fill-color);\n",
              "    }\n",
              "  }\n",
              "</style>\n",
              "\n",
              "  <script>\n",
              "    async function quickchart(key) {\n",
              "      const quickchartButtonEl =\n",
              "        document.querySelector('#' + key + ' button');\n",
              "      quickchartButtonEl.disabled = true;  // To prevent multiple clicks.\n",
              "      quickchartButtonEl.classList.add('colab-df-spinner');\n",
              "      try {\n",
              "        const charts = await google.colab.kernel.invokeFunction(\n",
              "            'suggestCharts', [key], {});\n",
              "      } catch (error) {\n",
              "        console.error('Error during call to suggestCharts:', error);\n",
              "      }\n",
              "      quickchartButtonEl.classList.remove('colab-df-spinner');\n",
              "      quickchartButtonEl.classList.add('colab-df-quickchart-complete');\n",
              "    }\n",
              "    (() => {\n",
              "      let quickchartButtonEl =\n",
              "        document.querySelector('#df-62c3ab3c-4877-4ff4-a1a0-1315bd6b6ee8 button');\n",
              "      quickchartButtonEl.style.display =\n",
              "        google.colab.kernel.accessAllowed ? 'block' : 'none';\n",
              "    })();\n",
              "  </script>\n",
              "</div>\n",
              "\n",
              "  <div id=\"id_77768f1e-7445-4188-9361-d20d970814b1\">\n",
              "    <style>\n",
              "      .colab-df-generate {\n",
              "        background-color: #E8F0FE;\n",
              "        border: none;\n",
              "        border-radius: 50%;\n",
              "        cursor: pointer;\n",
              "        display: none;\n",
              "        fill: #1967D2;\n",
              "        height: 32px;\n",
              "        padding: 0 0 0 0;\n",
              "        width: 32px;\n",
              "      }\n",
              "\n",
              "      .colab-df-generate:hover {\n",
              "        background-color: #E2EBFA;\n",
              "        box-shadow: 0px 1px 2px rgba(60, 64, 67, 0.3), 0px 1px 3px 1px rgba(60, 64, 67, 0.15);\n",
              "        fill: #174EA6;\n",
              "      }\n",
              "\n",
              "      [theme=dark] .colab-df-generate {\n",
              "        background-color: #3B4455;\n",
              "        fill: #D2E3FC;\n",
              "      }\n",
              "\n",
              "      [theme=dark] .colab-df-generate:hover {\n",
              "        background-color: #434B5C;\n",
              "        box-shadow: 0px 1px 3px 1px rgba(0, 0, 0, 0.15);\n",
              "        filter: drop-shadow(0px 1px 2px rgba(0, 0, 0, 0.3));\n",
              "        fill: #FFFFFF;\n",
              "      }\n",
              "    </style>\n",
              "    <button class=\"colab-df-generate\" onclick=\"generateWithVariable('B_cleaned_df')\"\n",
              "            title=\"Generate code using this dataframe.\"\n",
              "            style=\"display:none;\">\n",
              "\n",
              "  <svg xmlns=\"http://www.w3.org/2000/svg\" height=\"24px\"viewBox=\"0 0 24 24\"\n",
              "       width=\"24px\">\n",
              "    <path d=\"M7,19H8.4L18.45,9,17,7.55,7,17.6ZM5,21V16.75L18.45,3.32a2,2,0,0,1,2.83,0l1.4,1.43a1.91,1.91,0,0,1,.58,1.4,1.91,1.91,0,0,1-.58,1.4L9.25,21ZM18.45,9,17,7.55Zm-12,3A5.31,5.31,0,0,0,4.9,8.1,5.31,5.31,0,0,0,1,6.5,5.31,5.31,0,0,0,4.9,4.9,5.31,5.31,0,0,0,6.5,1,5.31,5.31,0,0,0,8.1,4.9,5.31,5.31,0,0,0,12,6.5,5.46,5.46,0,0,0,6.5,12Z\"/>\n",
              "  </svg>\n",
              "    </button>\n",
              "    <script>\n",
              "      (() => {\n",
              "      const buttonEl =\n",
              "        document.querySelector('#id_77768f1e-7445-4188-9361-d20d970814b1 button.colab-df-generate');\n",
              "      buttonEl.style.display =\n",
              "        google.colab.kernel.accessAllowed ? 'block' : 'none';\n",
              "\n",
              "      buttonEl.onclick = () => {\n",
              "        google.colab.notebook.generateWithVariable('B_cleaned_df');\n",
              "      }\n",
              "      })();\n",
              "    </script>\n",
              "  </div>\n",
              "\n",
              "    </div>\n",
              "  </div>\n"
            ],
            "application/vnd.google.colaboratory.intrinsic+json": {
              "type": "dataframe",
              "variable_name": "B_cleaned_df"
            }
          },
          "metadata": {},
          "execution_count": 309
        }
      ]
    },
    {
      "cell_type": "code",
      "source": [
        "columns_to_drop = ['unique_id','statename_basic', 'distname_basic']\n",
        "B_cleaned_df = B_cleaned_df.drop(columns=columns_to_drop, errors='ignore')\n",
        "\n",
        "# Remove duplicate columns\n",
        "B_cleaned_df_T = B_cleaned_df.T\n",
        "B_cleaned_df_T = B_cleaned_df_T.drop_duplicates()\n",
        "B_cleaned_df = B_cleaned_df_T.T\n",
        "\n",
        "# Ensure no null values\n",
        "B_cleaned_df = B_cleaned_df.dropna()\n",
        "\n",
        "print(\"Final cleaned DataFrame for Team A:\")\n",
        "print(B_cleaned_df.head())"
      ],
      "metadata": {
        "id": "l3O1VJU83YEi",
        "colab": {
          "base_uri": "https://localhost:8080/"
        },
        "outputId": "cfa36764-d8ae-4eec-eb3b-08f10cecd80e"
      },
      "execution_count": null,
      "outputs": [
        {
          "output_type": "stream",
          "name": "stdout",
          "text": [
            "Final cleaned DataFrame for Team A:\n",
            "   Year  Statecd  distcd_basic  blocks  clusters  villages  totschools  \\\n",
            "0   0.0     35.0        3501.0     3.0      16.0      83.0       212.0   \n",
            "1   0.0     35.0        3503.0     3.0      13.0      76.0       181.0   \n",
            "2   0.0     35.0        3502.0     3.0       8.0      42.0        58.0   \n",
            "3   0.0     28.0        2801.0    52.0     356.0    1576.0      4983.0   \n",
            "4   0.0     28.0        2822.0    63.0     564.0     929.0      5188.0   \n",
            "\n",
            "   totpopulation   p_06_pop  p_urb_pop  ...  trn_tch_f2  trn_tch_f3  \\\n",
            "0       237586.0   23616.05      55.89  ...       176.0       135.0   \n",
            "1       105539.0   11651.51       2.60  ...        85.0        40.0   \n",
            "2        36819.0    4226.82       0.00  ...        29.0        23.0   \n",
            "3      2737738.0  295675.70      27.68  ...       267.0         0.0   \n",
            "4      4083315.0  427114.75      28.09  ...       726.0         0.0   \n",
            "\n",
            "   trn_tch_f4  trn_tch_f5  trn_tch_f6  trn_tch_f7  prof_trn_tch_r  \\\n",
            "0         0.0        22.0       103.0         0.0          2968.0   \n",
            "1         3.0        28.0        60.0         0.0          1249.0   \n",
            "2         0.0        17.0        46.0         0.0           430.0   \n",
            "3         0.0         0.0         8.0       248.0         16419.0   \n",
            "4         0.0       591.0         0.0         3.0         21487.0   \n",
            "\n",
            "   prof_trn_tch_p  days_nontch  tch_nontch  \n",
            "0           228.0         12.0       519.0  \n",
            "1           203.0          8.0       362.0  \n",
            "2            78.0         20.0        28.0  \n",
            "3           845.0         13.0       263.0  \n",
            "4           676.0         14.0      1185.0  \n",
            "\n",
            "[5 rows x 195 columns]\n"
          ]
        }
      ]
    },
    {
      "cell_type": "markdown",
      "metadata": {
        "id": "cJo0t2403sf7"
      },
      "source": [
        "## Exercise 5 - Apply Correlation Matrix (2 Marks)\n",
        "\n",
        "Correlation is a statistical technique that can show whether and how strongly pairs of variables are related. More number of features does not imply better accuracy. More features may lead to a decline in the accuracy and create noise in the model, if they contain any irrelevant features.\n",
        "\n",
        "*Features with high correlation value will imply the same meaning. Hence removing the highly correlated features*"
      ]
    },
    {
      "cell_type": "markdown",
      "metadata": {
        "id": "KLRn2Zv-pwdR"
      },
      "source": [
        "**Function Description:**\n",
        "\n",
        "`remove_Highly_Correlated()` function removes highly correlated features in the dataframe.\n",
        "- Creates a correlation matrix of row and column wise features\n",
        "- Extracts only uppertriangular matrix as correlation matrix, which will have the same values below and above the diagonal\n",
        "- Removes columns which are having correlation value more than the threshold value."
      ]
    },
    {
      "cell_type": "code",
      "source": [
        "# Hint:\n",
        "  # Creates correlation matrix\n",
        "  # corr = df.corr()\n",
        "\n",
        "  # Set Up Mask To Hide Upper Triangle\n",
        "  # mask = np.triu(np.ones_like(corr, dtype=bool))\n",
        "  # tri_df = corr.mask(mask)"
      ],
      "metadata": {
        "id": "dB41eXGm3ZHa"
      },
      "execution_count": null,
      "outputs": []
    },
    {
      "cell_type": "code",
      "source": [
        "import numpy as np\n",
        "import pandas as pd\n",
        "def remove_Highly_Correlated(df, threshold=0.9):\n",
        "    # Create correlation matrix\n",
        "    corr_matrix = df.corr().abs()\n",
        "\n",
        "    # Extract the upper triangular matrix of the correlation matrix\n",
        "    upper_tri = corr_matrix.where(np.triu(np.ones(corr_matrix.shape), k=1).astype(bool))\n",
        "\n",
        "    # Find index of features with correlation greater than the threshold\n",
        "    to_drop = [column for column in upper_tri.columns if any(upper_tri[column] > threshold)]\n",
        "\n",
        "    # Drop the features\n",
        "    df_reduced = df.drop(columns=to_drop)\n",
        "\n",
        "    return df_reduced\n"
      ],
      "metadata": {
        "id": "loXECMF6ctZP"
      },
      "execution_count": null,
      "outputs": []
    },
    {
      "cell_type": "code",
      "source": [
        "A_final_df = remove_Highly_Correlated(A_cleaned_df, threshold=0.9)\n",
        "\n",
        "print(\"DataFrame after removing highly correlated features:\")\n",
        "print(A_final_df.head())"
      ],
      "metadata": {
        "id": "65O7JGep3ZB_",
        "colab": {
          "base_uri": "https://localhost:8080/"
        },
        "outputId": "f73c2eb0-26ab-43d5-f412-717f48dd15b1"
      },
      "execution_count": null,
      "outputs": [
        {
          "output_type": "stream",
          "name": "stdout",
          "text": [
            "DataFrame after removing highly correlated features:\n",
            "  Year_basic Statecd_basic statename blocks clusters villages totschools  \\\n",
            "0          0            35         0      3       16       83        212   \n",
            "1          0            35         0      3       13       76        181   \n",
            "2          0            35         0      3        8       42         58   \n",
            "3          0            28         1     52      356     1576       4983   \n",
            "4          0            28         1     63      564      929       5188   \n",
            "\n",
            "  totpopulation p_urb_pop sexratio  ... Enr Med3 2 Enr Med3 3 Enr Med3 4  \\\n",
            "0      237586.0     55.89    874.0  ...        932     1457.0          0   \n",
            "1      105539.0       2.6    925.0  ...       1212      387.0          0   \n",
            "2       36819.0       0.0    778.0  ...          0        0.0          0   \n",
            "3     2737738.0     27.68   1003.0  ...       6750        0.0          0   \n",
            "4     4083315.0     28.09    977.0  ...       3461      119.0        102   \n",
            "\n",
            "  Enr Med3 5 Enr Med3 6 Enr Med3 7 Rep C1 Rep C2 Muslim P   Obc P  \n",
            "0          0      410.0        0.0     61     13     2539    2289  \n",
            "1        567      313.0        0.0      2      3      184    2100  \n",
            "2          0       48.0        0.0      3      4       62      17  \n",
            "3          0      856.0     5876.0      0      6    33747  118300  \n",
            "4       1004        0.0      296.0     27     10    34185  188353  \n",
            "\n",
            "[5 rows x 79 columns]\n"
          ]
        }
      ]
    },
    {
      "cell_type": "code",
      "source": [
        "B_final_df = remove_Highly_Correlated(B_cleaned_df, threshold=0.9)\n",
        "\n",
        "print(\"DataFrame after removing highly correlated features:\")\n",
        "print(B_final_df.head())"
      ],
      "metadata": {
        "id": "8-3w438M3Y_P",
        "colab": {
          "base_uri": "https://localhost:8080/"
        },
        "outputId": "db4b1501-9167-4846-991e-cc41364f911c"
      },
      "execution_count": null,
      "outputs": [
        {
          "output_type": "stream",
          "name": "stdout",
          "text": [
            "DataFrame after removing highly correlated features:\n",
            "   Year  Statecd  blocks  clusters  villages  totschools  totpopulation  \\\n",
            "0   0.0     35.0     3.0      16.0      83.0       212.0       237586.0   \n",
            "1   0.0     35.0     3.0      13.0      76.0       181.0       105539.0   \n",
            "2   0.0     35.0     3.0       8.0      42.0        58.0        36819.0   \n",
            "3   0.0     28.0    52.0     356.0    1576.0      4983.0      2737738.0   \n",
            "4   0.0     28.0    63.0     564.0     929.0      5188.0      4083315.0   \n",
            "\n",
            "   p_urb_pop  sexratio  sexratio_06  ...  trn_tch_f2  trn_tch_f3  trn_tch_f4  \\\n",
            "0      55.89     874.0        980.0  ...       176.0       135.0         0.0   \n",
            "1       2.60     925.0        975.0  ...        85.0        40.0         3.0   \n",
            "2       0.00     778.0        961.0  ...        29.0        23.0         0.0   \n",
            "3      27.68    1003.0        942.0  ...       267.0         0.0         0.0   \n",
            "4      28.09     977.0        927.0  ...       726.0         0.0         0.0   \n",
            "\n",
            "   trn_tch_f5  trn_tch_f6  trn_tch_f7  prof_trn_tch_r  prof_trn_tch_p  \\\n",
            "0        22.0       103.0         0.0          2968.0           228.0   \n",
            "1        28.0        60.0         0.0          1249.0           203.0   \n",
            "2        17.0        46.0         0.0           430.0            78.0   \n",
            "3         0.0         8.0       248.0         16419.0           845.0   \n",
            "4       591.0         0.0         3.0         21487.0           676.0   \n",
            "\n",
            "   days_nontch  tch_nontch  \n",
            "0         12.0       519.0  \n",
            "1          8.0       362.0  \n",
            "2         20.0        28.0  \n",
            "3         13.0       263.0  \n",
            "4         14.0      1185.0  \n",
            "\n",
            "[5 rows x 173 columns]\n"
          ]
        }
      ]
    },
    {
      "cell_type": "markdown",
      "metadata": {
        "id": "e_yZN3u9Vud7"
      },
      "source": [
        "## Exercise 6 - (3 Marks)\n",
        "\n",
        "Perform Mean Correction and Standard Scaling on the data feature/column wise.\n",
        "\n",
        "**Hint:** In order to understand the idea behind the terms used above, you may refer to the following link:\n",
        "\n",
        "[StandardScaler](https://scikit-learn.org/stable/modules/generated/sklearn.preprocessing.StandardScaler.html)"
      ]
    },
    {
      "cell_type": "code",
      "source": [
        "import pandas as pd\n",
        "from sklearn.preprocessing import StandardScaler\n",
        "\n",
        "# Assuming final_df_A is the DataFrame after previous steps\n",
        "def mean_correction_and_standard_scaling(df):\n",
        "    # Initialize the StandardScaler\n",
        "    scaler = StandardScaler()\n",
        "\n",
        "    # Fit the scaler to the dataframe and transform the data\n",
        "    scaled_data = scaler.fit_transform(df)\n",
        "\n",
        "    # Convert the scaled data back to a DataFrame\n",
        "    scaled_df = pd.DataFrame(scaled_data, columns=df.columns)\n",
        "\n",
        "    return scaled_df"
      ],
      "metadata": {
        "id": "kfo8Ey073ZvO"
      },
      "execution_count": null,
      "outputs": []
    },
    {
      "cell_type": "code",
      "source": [
        "# Apply the function to the final DataFrame for Team A\n",
        "scaled_df_A = mean_correction_and_standard_scaling(A_final_df)\n",
        "\n",
        "print(\"Final DataFrame for Team A after mean correction and standard scaling:\")\n",
        "print(scaled_df_A.head())\n"
      ],
      "metadata": {
        "id": "T3gTXp2S3Zsb",
        "colab": {
          "base_uri": "https://localhost:8080/"
        },
        "outputId": "558ab480-32c8-43f0-c54b-b6a2c3d950dc"
      },
      "execution_count": null,
      "outputs": [
        {
          "output_type": "stream",
          "name": "stdout",
          "text": [
            "Final DataFrame for Team A after mean correction and standard scaling:\n",
            "   Year_basic  Statecd_basic  statename    blocks  clusters  villages  \\\n",
            "0        -1.0       1.908611  -1.782918 -0.828445 -1.109180 -1.307226   \n",
            "1        -1.0       1.908611  -1.782918 -0.828445 -1.138707 -1.318262   \n",
            "2        -1.0       1.908611  -1.782918 -0.828445 -1.187918 -1.371868   \n",
            "3        -1.0       1.165005  -1.692158  4.173296  2.237191  1.046709   \n",
            "4        -1.0       1.165005  -1.692158  5.296136  4.284383  0.026618   \n",
            "\n",
            "   totschools  totpopulation  p_urb_pop  sexratio  ...  Enr Med3 2  \\\n",
            "0   -1.375512      -1.074492   1.632431 -1.101203  ...   -0.171649   \n",
            "1   -1.396885      -1.159890  -1.167381 -0.283457  ...   -0.133766   \n",
            "2   -1.481690      -1.204333  -1.303983 -2.640491  ...   -0.297742   \n",
            "3    1.913955       0.542416   0.150301  0.967214  ...    0.615490   \n",
            "4    2.055296       1.412633   0.171842  0.550323  ...    0.170509   \n",
            "\n",
            "   Enr Med3 3  Enr Med3 4  Enr Med3 5  Enr Med3 6  Enr Med3 7    Rep C1  \\\n",
            "0    0.402612   -0.266383   -0.251186   -0.050933   -0.157942 -0.320121   \n",
            "1   -0.102128   -0.266383    0.141779   -0.101369   -0.157942 -0.335246   \n",
            "2   -0.284683   -0.266383   -0.251186   -0.239156   -0.157942 -0.334990   \n",
            "3   -0.284683   -0.266383   -0.251186    0.180965    3.120862 -0.335759   \n",
            "4   -0.228548   -0.078690    0.444646   -0.264114    0.007226 -0.328837   \n",
            "\n",
            "     Rep C2  Muslim P     Obc P  \n",
            "0 -0.470679 -0.528740 -0.986867  \n",
            "1 -0.478323 -0.574939 -0.989005  \n",
            "2 -0.477559 -0.577333 -1.012568  \n",
            "3 -0.476030  0.083485  0.325441  \n",
            "4 -0.472972  0.092077  1.117876  \n",
            "\n",
            "[5 rows x 79 columns]\n"
          ]
        }
      ]
    },
    {
      "cell_type": "code",
      "source": [
        "# Apply the function to the final DataFrame for Team A\n",
        "scaled_df_B = mean_correction_and_standard_scaling(B_final_df)\n",
        "\n",
        "print(\"Final DataFrame for Team A after mean correction and standard scaling:\")\n",
        "print(scaled_df_B.head())\n"
      ],
      "metadata": {
        "id": "ZFihgZDL3ZqH",
        "colab": {
          "base_uri": "https://localhost:8080/"
        },
        "outputId": "492b8541-43d0-4837-9d3c-08654abab86f"
      },
      "execution_count": null,
      "outputs": [
        {
          "output_type": "stream",
          "name": "stdout",
          "text": [
            "Final DataFrame for Team A after mean correction and standard scaling:\n",
            "   Year   Statecd    blocks  clusters  villages  totschools  totpopulation  \\\n",
            "0  -1.0  1.908611 -0.828445 -1.109180 -1.307226   -1.375512      -1.074492   \n",
            "1  -1.0  1.908611 -0.828445 -1.138707 -1.318262   -1.396885      -1.159890   \n",
            "2  -1.0  1.908611 -0.828445 -1.187918 -1.371868   -1.481690      -1.204333   \n",
            "3  -1.0  1.165005  4.173296  2.237191  1.046709    1.913955       0.542416   \n",
            "4  -1.0  1.165005  5.296136  4.284383  0.026618    2.055296       1.412633   \n",
            "\n",
            "   p_urb_pop  sexratio  sexratio_06  ...  trn_tch_f2  trn_tch_f3  trn_tch_f4  \\\n",
            "0   1.632431 -1.101203     1.386910  ...   -0.292820    0.514248   -0.494098   \n",
            "1  -1.167381 -0.283457     1.273576  ...   -0.395004    0.038853   -0.470878   \n",
            "2  -1.303983 -2.640491     0.956238  ...   -0.457886   -0.046217   -0.494098   \n",
            "3   0.150301  0.967214     0.525566  ...   -0.190636   -0.161313   -0.494098   \n",
            "4   0.171842  0.550323     0.185561  ...    0.324775   -0.161313   -0.494098   \n",
            "\n",
            "   trn_tch_f5  trn_tch_f6  trn_tch_f7  prof_trn_tch_r  prof_trn_tch_p  \\\n",
            "0   -0.292423    1.274906   -0.377127       -0.785267       -0.293687   \n",
            "1   -0.264741    0.625907   -0.377127       -1.026722       -0.329009   \n",
            "2   -0.315492    0.414605   -0.377127       -1.141760       -0.505620   \n",
            "3   -0.393926   -0.158929    1.903111        1.104093        0.578065   \n",
            "4    2.332798   -0.279673   -0.349544        1.815956        0.339287   \n",
            "\n",
            "   days_nontch  tch_nontch  \n",
            "0    -0.359209    0.047086  \n",
            "1    -0.618519   -0.089579  \n",
            "2     0.159410   -0.380319  \n",
            "3    -0.294382   -0.175757  \n",
            "4    -0.229554    0.626826  \n",
            "\n",
            "[5 rows x 173 columns]\n"
          ]
        }
      ]
    },
    {
      "cell_type": "code",
      "source": [],
      "metadata": {
        "id": "BNRbblJx3Zng"
      },
      "execution_count": null,
      "outputs": []
    },
    {
      "cell_type": "markdown",
      "metadata": {
        "id": "xTB9sMRsVxyj"
      },
      "source": [
        "## Exercise 7 - (3 Marks)\n",
        "\n",
        "Apply different classifiers on the preprocessed data and figure out which classifier gives the best result.\n",
        "\n",
        "* Split the data into train and test\n",
        "\n",
        "* Fit the model with train data and find the accuracy of test data\n",
        "\n",
        "### Expected Accuracy is above 90%"
      ]
    },
    {
      "cell_type": "code",
      "source": [
        "import pandas as pd\n",
        "from sklearn.model_selection import train_test_split\n",
        "from sklearn.tree import DecisionTreeClassifier\n",
        "from sklearn.ensemble import RandomForestClassifier, GradientBoostingClassifier\n",
        "from sklearn.svm import SVC\n",
        "from sklearn.metrics import accuracy_score"
      ],
      "metadata": {
        "id": "3K-7ZOFf3aZ5"
      },
      "execution_count": null,
      "outputs": []
    },
    {
      "cell_type": "code",
      "source": [
        "X = A_final_df.drop(columns=['overall_lit'])  # Features\n",
        "y = A_final_df['overall_lit'].astype(int)  # Target variable"
      ],
      "metadata": {
        "id": "_N2GhQ8r3aXG"
      },
      "execution_count": null,
      "outputs": []
    },
    {
      "cell_type": "code",
      "source": [
        "# Split data into train and test sets (80% train, 20% test)\n",
        "X_train, X_test, y_train, y_test = train_test_split(X, y, test_size=0.2, random_state=42)\n",
        "# Initialize classifiers\n",
        "classifiers = {\n",
        "    \"Decision Tree\": DecisionTreeClassifier(random_state=42),\n",
        "    \"Random Forest\": RandomForestClassifier(random_state=42),\n",
        "    \"Support Vector Machine\": SVC(random_state=42),\n",
        "    \"Gradient Boosting\": GradientBoostingClassifier(random_state=42)\n",
        "}\n",
        "\n",
        "# Fit models and evaluate accuracy on test set\n",
        "for name, clf in classifiers.items():\n",
        "    clf.fit(X_train, y_train)\n",
        "    y_pred = clf.predict(X_test)\n",
        "    accuracy = accuracy_score(y_test, y_pred)\n",
        "    print(f\"{name} Accuracy: {accuracy:.4f}\")"
      ],
      "metadata": {
        "id": "VBdlcqjn3aUP",
        "colab": {
          "base_uri": "https://localhost:8080/"
        },
        "outputId": "93a201e1-7d29-4276-d0ad-a57df7ca8cc7"
      },
      "execution_count": null,
      "outputs": [
        {
          "output_type": "stream",
          "name": "stdout",
          "text": [
            "Decision Tree Accuracy: 0.9252\n",
            "Random Forest Accuracy: 0.9488\n",
            "Support Vector Machine Accuracy: 0.5472\n",
            "Gradient Boosting Accuracy: 0.9567\n"
          ]
        }
      ]
    },
    {
      "cell_type": "code",
      "source": [
        "X = B_final_df.drop(columns=['overall_lit'])  # Features\n",
        "y = B_final_df['overall_lit'].astype(int)  # Target variable\n",
        "\n",
        "# Split data into train and test sets (80% train, 20% test)\n",
        "X_train, X_test, y_train, y_test = train_test_split(X, y, test_size=0.2, random_state=42)\n",
        "# Initialize classifiers\n",
        "classifiers = {\n",
        "    \"Decision Tree\": DecisionTreeClassifier(random_state=42),\n",
        "    \"Random Forest\": RandomForestClassifier(random_state=42),\n",
        "    \"Support Vector Machine\": SVC(random_state=42),\n",
        "    \"Gradient Boosting\": GradientBoostingClassifier(random_state=42)\n",
        "}\n",
        "\n",
        "# Fit models and evaluate accuracy on test set\n",
        "for name, clf in classifiers.items():\n",
        "    clf.fit(X_train, y_train)\n",
        "    y_pred = clf.predict(X_test)\n",
        "    accuracy = accuracy_score(y_test, y_pred)\n",
        "    print(f\"{name} Accuracy: {accuracy:.4f}\")"
      ],
      "metadata": {
        "id": "Dx-g-LzE3aRT",
        "colab": {
          "base_uri": "https://localhost:8080/"
        },
        "outputId": "e23055f8-2483-43b0-a838-370cb3ef6cf3"
      },
      "execution_count": null,
      "outputs": [
        {
          "output_type": "stream",
          "name": "stdout",
          "text": [
            "Decision Tree Accuracy: 0.9213\n",
            "Random Forest Accuracy: 0.9094\n",
            "Support Vector Machine Accuracy: 0.4331\n",
            "Gradient Boosting Accuracy: 0.9567\n"
          ]
        }
      ]
    }
  ]
}